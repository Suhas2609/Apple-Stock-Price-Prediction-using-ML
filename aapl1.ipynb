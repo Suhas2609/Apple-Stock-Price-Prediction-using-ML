{
  "cells": [
    {
      "cell_type": "code",
      "execution_count": null,
      "id": "d16826a3",
      "metadata": {
        "id": "d16826a3"
      },
      "outputs": [],
      "source": [
        "import pandas as pd\n",
        "news_df = pd.read_csv('news_for_finbert.csv', encoding='ISO-8859-1')\n",
        "price_df = pd.read_csv('aapl_stock.csv', encoding='ISO-8859-1')"
      ]
    },
    {
      "cell_type": "code",
      "execution_count": null,
      "id": "3148b2f1",
      "metadata": {
        "colab": {
          "base_uri": "https://localhost:8080/",
          "height": 570
        },
        "id": "3148b2f1",
        "outputId": "2f412c19-4bb4-4fd5-b083-17beda648ca2"
      },
      "outputs": [
        {
          "output_type": "stream",
          "name": "stdout",
          "text": [
            "<class 'pandas.core.frame.DataFrame'>\n",
            "RangeIndex: 29188 entries, 0 to 29187\n",
            "Data columns (total 4 columns):\n",
            " #   Column   Non-Null Count  Dtype \n",
            "---  ------   --------------  ----- \n",
            " 0   date     29188 non-null  object\n",
            " 1   title    29188 non-null  object\n",
            " 2   content  29188 non-null  object\n",
            " 3   symbols  29188 non-null  object\n",
            "dtypes: object(4)\n",
            "memory usage: 912.3+ KB\n"
          ]
        },
        {
          "output_type": "execute_result",
          "data": {
            "text/plain": [
              "         date                                              title  \\\n",
              "0  2021-01-03  World's 4th Largest Automaker Set To Take Shap...   \n",
              "1  2021-01-04  Foxconn Seals Manufacturing Deal With Chinese ...   \n",
              "2  2021-01-05  ChinaÃ¢ÂÂs Dreams of Self-Reliance Still Dep...   \n",
              "3  2021-01-05  iPhone Supply Chain Sends Bullish Signal on 5G...   \n",
              "4  2021-01-05  Two former Apple insiders are building a laser...   \n",
              "\n",
              "                                             content  \\\n",
              "0  Shareholders are scheduled to vote on the merg...   \n",
              "1  (Bloomberg) -- Apple Inc. supplier Foxconn Tec...   \n",
              "2  (Bloomberg Opinion) -- For signs of how ChinaÃ...   \n",
              "3  (Bloomberg) -- IPhone suppliers are racing to ...   \n",
              "4  Aeva co-founder and CEO Soroush Salehian Ã¢ÂÂ...   \n",
              "\n",
              "                                             symbols  \n",
              "0    AAPL.US, FCA.MI, FCAU.US, PEU.F, TSLA.US, UG.PA  \n",
              "1  300750.SHE, AAPL.US, BAMXF.US, BMWYY.US, BYMOF...  \n",
              "2  AAPL.US, GS-PA.US, GS-PD.US, GS-PJ.US, GS-PK.U...  \n",
              "3  005930.KO, 005935.KO, AAPL.US, BCLYF.US, BCS.U...  \n",
              "4  AAPL.US, CF.US, GMHIU.US, IPV-UN.US, IPV.US, L...  "
            ],
            "text/html": [
              "\n",
              "  <div id=\"df-c95b67d7-9598-4610-9b36-811a67e7f387\" class=\"colab-df-container\">\n",
              "    <div>\n",
              "<style scoped>\n",
              "    .dataframe tbody tr th:only-of-type {\n",
              "        vertical-align: middle;\n",
              "    }\n",
              "\n",
              "    .dataframe tbody tr th {\n",
              "        vertical-align: top;\n",
              "    }\n",
              "\n",
              "    .dataframe thead th {\n",
              "        text-align: right;\n",
              "    }\n",
              "</style>\n",
              "<table border=\"1\" class=\"dataframe\">\n",
              "  <thead>\n",
              "    <tr style=\"text-align: right;\">\n",
              "      <th></th>\n",
              "      <th>date</th>\n",
              "      <th>title</th>\n",
              "      <th>content</th>\n",
              "      <th>symbols</th>\n",
              "    </tr>\n",
              "  </thead>\n",
              "  <tbody>\n",
              "    <tr>\n",
              "      <th>0</th>\n",
              "      <td>2021-01-03</td>\n",
              "      <td>World's 4th Largest Automaker Set To Take Shap...</td>\n",
              "      <td>Shareholders are scheduled to vote on the merg...</td>\n",
              "      <td>AAPL.US, FCA.MI, FCAU.US, PEU.F, TSLA.US, UG.PA</td>\n",
              "    </tr>\n",
              "    <tr>\n",
              "      <th>1</th>\n",
              "      <td>2021-01-04</td>\n",
              "      <td>Foxconn Seals Manufacturing Deal With Chinese ...</td>\n",
              "      <td>(Bloomberg) -- Apple Inc. supplier Foxconn Tec...</td>\n",
              "      <td>300750.SHE, AAPL.US, BAMXF.US, BMWYY.US, BYMOF...</td>\n",
              "    </tr>\n",
              "    <tr>\n",
              "      <th>2</th>\n",
              "      <td>2021-01-05</td>\n",
              "      <td>ChinaÃ¢ÂÂs Dreams of Self-Reliance Still Dep...</td>\n",
              "      <td>(Bloomberg Opinion) -- For signs of how ChinaÃ...</td>\n",
              "      <td>AAPL.US, GS-PA.US, GS-PD.US, GS-PJ.US, GS-PK.U...</td>\n",
              "    </tr>\n",
              "    <tr>\n",
              "      <th>3</th>\n",
              "      <td>2021-01-05</td>\n",
              "      <td>iPhone Supply Chain Sends Bullish Signal on 5G...</td>\n",
              "      <td>(Bloomberg) -- IPhone suppliers are racing to ...</td>\n",
              "      <td>005930.KO, 005935.KO, AAPL.US, BCLYF.US, BCS.U...</td>\n",
              "    </tr>\n",
              "    <tr>\n",
              "      <th>4</th>\n",
              "      <td>2021-01-05</td>\n",
              "      <td>Two former Apple insiders are building a laser...</td>\n",
              "      <td>Aeva co-founder and CEO Soroush Salehian Ã¢ÂÂ...</td>\n",
              "      <td>AAPL.US, CF.US, GMHIU.US, IPV-UN.US, IPV.US, L...</td>\n",
              "    </tr>\n",
              "  </tbody>\n",
              "</table>\n",
              "</div>\n",
              "    <div class=\"colab-df-buttons\">\n",
              "\n",
              "  <div class=\"colab-df-container\">\n",
              "    <button class=\"colab-df-convert\" onclick=\"convertToInteractive('df-c95b67d7-9598-4610-9b36-811a67e7f387')\"\n",
              "            title=\"Convert this dataframe to an interactive table.\"\n",
              "            style=\"display:none;\">\n",
              "\n",
              "  <svg xmlns=\"http://www.w3.org/2000/svg\" height=\"24px\" viewBox=\"0 -960 960 960\">\n",
              "    <path d=\"M120-120v-720h720v720H120Zm60-500h600v-160H180v160Zm220 220h160v-160H400v160Zm0 220h160v-160H400v160ZM180-400h160v-160H180v160Zm440 0h160v-160H620v160ZM180-180h160v-160H180v160Zm440 0h160v-160H620v160Z\"/>\n",
              "  </svg>\n",
              "    </button>\n",
              "\n",
              "  <style>\n",
              "    .colab-df-container {\n",
              "      display:flex;\n",
              "      gap: 12px;\n",
              "    }\n",
              "\n",
              "    .colab-df-convert {\n",
              "      background-color: #E8F0FE;\n",
              "      border: none;\n",
              "      border-radius: 50%;\n",
              "      cursor: pointer;\n",
              "      display: none;\n",
              "      fill: #1967D2;\n",
              "      height: 32px;\n",
              "      padding: 0 0 0 0;\n",
              "      width: 32px;\n",
              "    }\n",
              "\n",
              "    .colab-df-convert:hover {\n",
              "      background-color: #E2EBFA;\n",
              "      box-shadow: 0px 1px 2px rgba(60, 64, 67, 0.3), 0px 1px 3px 1px rgba(60, 64, 67, 0.15);\n",
              "      fill: #174EA6;\n",
              "    }\n",
              "\n",
              "    .colab-df-buttons div {\n",
              "      margin-bottom: 4px;\n",
              "    }\n",
              "\n",
              "    [theme=dark] .colab-df-convert {\n",
              "      background-color: #3B4455;\n",
              "      fill: #D2E3FC;\n",
              "    }\n",
              "\n",
              "    [theme=dark] .colab-df-convert:hover {\n",
              "      background-color: #434B5C;\n",
              "      box-shadow: 0px 1px 3px 1px rgba(0, 0, 0, 0.15);\n",
              "      filter: drop-shadow(0px 1px 2px rgba(0, 0, 0, 0.3));\n",
              "      fill: #FFFFFF;\n",
              "    }\n",
              "  </style>\n",
              "\n",
              "    <script>\n",
              "      const buttonEl =\n",
              "        document.querySelector('#df-c95b67d7-9598-4610-9b36-811a67e7f387 button.colab-df-convert');\n",
              "      buttonEl.style.display =\n",
              "        google.colab.kernel.accessAllowed ? 'block' : 'none';\n",
              "\n",
              "      async function convertToInteractive(key) {\n",
              "        const element = document.querySelector('#df-c95b67d7-9598-4610-9b36-811a67e7f387');\n",
              "        const dataTable =\n",
              "          await google.colab.kernel.invokeFunction('convertToInteractive',\n",
              "                                                    [key], {});\n",
              "        if (!dataTable) return;\n",
              "\n",
              "        const docLinkHtml = 'Like what you see? Visit the ' +\n",
              "          '<a target=\"_blank\" href=https://colab.research.google.com/notebooks/data_table.ipynb>data table notebook</a>'\n",
              "          + ' to learn more about interactive tables.';\n",
              "        element.innerHTML = '';\n",
              "        dataTable['output_type'] = 'display_data';\n",
              "        await google.colab.output.renderOutput(dataTable, element);\n",
              "        const docLink = document.createElement('div');\n",
              "        docLink.innerHTML = docLinkHtml;\n",
              "        element.appendChild(docLink);\n",
              "      }\n",
              "    </script>\n",
              "  </div>\n",
              "\n",
              "\n",
              "<div id=\"df-60fb890b-d9fb-4fe6-9ed3-8064c1c17885\">\n",
              "  <button class=\"colab-df-quickchart\" onclick=\"quickchart('df-60fb890b-d9fb-4fe6-9ed3-8064c1c17885')\"\n",
              "            title=\"Suggest charts\"\n",
              "            style=\"display:none;\">\n",
              "\n",
              "<svg xmlns=\"http://www.w3.org/2000/svg\" height=\"24px\"viewBox=\"0 0 24 24\"\n",
              "     width=\"24px\">\n",
              "    <g>\n",
              "        <path d=\"M19 3H5c-1.1 0-2 .9-2 2v14c0 1.1.9 2 2 2h14c1.1 0 2-.9 2-2V5c0-1.1-.9-2-2-2zM9 17H7v-7h2v7zm4 0h-2V7h2v10zm4 0h-2v-4h2v4z\"/>\n",
              "    </g>\n",
              "</svg>\n",
              "  </button>\n",
              "\n",
              "<style>\n",
              "  .colab-df-quickchart {\n",
              "      --bg-color: #E8F0FE;\n",
              "      --fill-color: #1967D2;\n",
              "      --hover-bg-color: #E2EBFA;\n",
              "      --hover-fill-color: #174EA6;\n",
              "      --disabled-fill-color: #AAA;\n",
              "      --disabled-bg-color: #DDD;\n",
              "  }\n",
              "\n",
              "  [theme=dark] .colab-df-quickchart {\n",
              "      --bg-color: #3B4455;\n",
              "      --fill-color: #D2E3FC;\n",
              "      --hover-bg-color: #434B5C;\n",
              "      --hover-fill-color: #FFFFFF;\n",
              "      --disabled-bg-color: #3B4455;\n",
              "      --disabled-fill-color: #666;\n",
              "  }\n",
              "\n",
              "  .colab-df-quickchart {\n",
              "    background-color: var(--bg-color);\n",
              "    border: none;\n",
              "    border-radius: 50%;\n",
              "    cursor: pointer;\n",
              "    display: none;\n",
              "    fill: var(--fill-color);\n",
              "    height: 32px;\n",
              "    padding: 0;\n",
              "    width: 32px;\n",
              "  }\n",
              "\n",
              "  .colab-df-quickchart:hover {\n",
              "    background-color: var(--hover-bg-color);\n",
              "    box-shadow: 0 1px 2px rgba(60, 64, 67, 0.3), 0 1px 3px 1px rgba(60, 64, 67, 0.15);\n",
              "    fill: var(--button-hover-fill-color);\n",
              "  }\n",
              "\n",
              "  .colab-df-quickchart-complete:disabled,\n",
              "  .colab-df-quickchart-complete:disabled:hover {\n",
              "    background-color: var(--disabled-bg-color);\n",
              "    fill: var(--disabled-fill-color);\n",
              "    box-shadow: none;\n",
              "  }\n",
              "\n",
              "  .colab-df-spinner {\n",
              "    border: 2px solid var(--fill-color);\n",
              "    border-color: transparent;\n",
              "    border-bottom-color: var(--fill-color);\n",
              "    animation:\n",
              "      spin 1s steps(1) infinite;\n",
              "  }\n",
              "\n",
              "  @keyframes spin {\n",
              "    0% {\n",
              "      border-color: transparent;\n",
              "      border-bottom-color: var(--fill-color);\n",
              "      border-left-color: var(--fill-color);\n",
              "    }\n",
              "    20% {\n",
              "      border-color: transparent;\n",
              "      border-left-color: var(--fill-color);\n",
              "      border-top-color: var(--fill-color);\n",
              "    }\n",
              "    30% {\n",
              "      border-color: transparent;\n",
              "      border-left-color: var(--fill-color);\n",
              "      border-top-color: var(--fill-color);\n",
              "      border-right-color: var(--fill-color);\n",
              "    }\n",
              "    40% {\n",
              "      border-color: transparent;\n",
              "      border-right-color: var(--fill-color);\n",
              "      border-top-color: var(--fill-color);\n",
              "    }\n",
              "    60% {\n",
              "      border-color: transparent;\n",
              "      border-right-color: var(--fill-color);\n",
              "    }\n",
              "    80% {\n",
              "      border-color: transparent;\n",
              "      border-right-color: var(--fill-color);\n",
              "      border-bottom-color: var(--fill-color);\n",
              "    }\n",
              "    90% {\n",
              "      border-color: transparent;\n",
              "      border-bottom-color: var(--fill-color);\n",
              "    }\n",
              "  }\n",
              "</style>\n",
              "\n",
              "  <script>\n",
              "    async function quickchart(key) {\n",
              "      const quickchartButtonEl =\n",
              "        document.querySelector('#' + key + ' button');\n",
              "      quickchartButtonEl.disabled = true;  // To prevent multiple clicks.\n",
              "      quickchartButtonEl.classList.add('colab-df-spinner');\n",
              "      try {\n",
              "        const charts = await google.colab.kernel.invokeFunction(\n",
              "            'suggestCharts', [key], {});\n",
              "      } catch (error) {\n",
              "        console.error('Error during call to suggestCharts:', error);\n",
              "      }\n",
              "      quickchartButtonEl.classList.remove('colab-df-spinner');\n",
              "      quickchartButtonEl.classList.add('colab-df-quickchart-complete');\n",
              "    }\n",
              "    (() => {\n",
              "      let quickchartButtonEl =\n",
              "        document.querySelector('#df-60fb890b-d9fb-4fe6-9ed3-8064c1c17885 button');\n",
              "      quickchartButtonEl.style.display =\n",
              "        google.colab.kernel.accessAllowed ? 'block' : 'none';\n",
              "    })();\n",
              "  </script>\n",
              "</div>\n",
              "\n",
              "    </div>\n",
              "  </div>\n"
            ],
            "application/vnd.google.colaboratory.intrinsic+json": {
              "type": "dataframe",
              "variable_name": "news_df",
              "summary": "{\n  \"name\": \"news_df\",\n  \"rows\": 29188,\n  \"fields\": [\n    {\n      \"column\": \"date\",\n      \"properties\": {\n        \"dtype\": \"object\",\n        \"num_unique_values\": 1409,\n        \"samples\": [\n          \"2022-01-02\",\n          \"2023-05-31\",\n          \"2024-08-19\"\n        ],\n        \"semantic_type\": \"\",\n        \"description\": \"\"\n      }\n    },\n    {\n      \"column\": \"title\",\n      \"properties\": {\n        \"dtype\": \"string\",\n        \"num_unique_values\": 27645,\n        \"samples\": [\n          \"Market check: Stocks fall, jobs report weighs on bond market\",\n          \"Apple and Major League Soccer to Present All MLS Matches Around the World for 10 Years, Beginning in 2023\",\n          \"Apple ETFs in Focus Ahead of iPhone 15 Launch Event\"\n        ],\n        \"semantic_type\": \"\",\n        \"description\": \"\"\n      }\n    },\n    {\n      \"column\": \"content\",\n      \"properties\": {\n        \"dtype\": \"string\",\n        \"num_unique_values\": 28127,\n        \"samples\": [\n          \"These companies have provided Berkshire Hathaway with consistent gains and could do the same for your portfolio.\\n\\nContinue reading\",\n          \"California Institute of Technology filed a federal lawsuit against Samsung Electronics, SSNLF alleging that the electronics and computer-peripherals giant infringed its Wi-fi patents. Caltech said in a complaint filed on Friday in a Texas federal court that Samsung's Galaxy phones, tablets, and watches use Wi-Fi chips that infringe five of its data-transmission patents, Reuters reported. The infringement extends to other Wi-Fi-enabled Samsung products as well, including televisions and refrigerators, the complaint says.\",\n          \"Billionaires Are Buying Retail Stocks, Shrugging Off Recession Fears\\n\\nBenzinga and Yahoo Finance LLC may earn commission or revenue on some items through the links below.\\n\\nInvestors closely track investments made by billionaires worldwide, especially in a volatile market backdrop. While U.S. equities overwhelmingly rallied in August, key benchmark indexes traded lower during the first week of September as the markets waited for the release of key employment data. Market volatility has risen dramatically over the past week, as evident from the CBOE Volatility Index's 31% gains over the past five days.\\n\\nHowever, billionaires are shrugging off looming recession fears that have grappled the broader market, reflecting their faith in the U.S. economy. Some of the world's wealthiest and most influential financiers are doubling down on retail stocks. These moves suggest deep confidence in the resilience of consumer-facing businesses.\\n\\nDon't Miss Out:\\n\\nGet \\u00c3\\u00a2\\u00c2\\u0080\\u00c2\\u0098em while you can \\u00c3\\u00a2\\u00c2\\u0080\\u00c2\\u0094 investing in this asset class may be reaching a high-water mark but you can still make returns right now. Looking to trade options, stocks, ETFs, and more? Get started with the trading platform that is a one-stop shop.\\n\\nRetail Stocks: A Comeback Story\\n\\nThe retail sector has been at the center of economic debate recently. Rising inflation, supply chain disruptions, and geopolitical tensions have all contributed to a murky outlook for consumer markets.\\n\\nNonetheless, consumers are spending money despite the delayed rate cuts, as advanced retail sales rose by 1% month-over-month in July, beating the 0.2% consensus estimate.\\n\\n\\\"Once again, this was further evidence that the U.S. consumer still can surprise to the upside,\\\" Richard de Chazal, macro analyst at William Blair, said. \\\"This was another solid report, and inconsistent with a consumer who is on the brink of collapse.\\\"\\n\\nFurthermore, the U.S. GDP rose by an estimated 3% in the second quarter of 2024, according to data published by the Bureau of Economic Analysis.\\n\\nThis, coupled with noteworthy investments from Wall Street's biggest names, could signal a bull market for retail stocks. Their investments often serve as a strong endorsement of their ability to grow and prosper in a fluctuating economy.\\n\\nBill Ackman's Bet on Nike\\n\\nWith a net worth of over $9 billion, Bill Ackman is a controversial yet highly respected hedge fund manager known for his bold and contrarian investment bets. He often leverages his social media presence to generate enthusiasm regarding his latest investments and strategic bets.\\n\\nAckman spent the last few months trying to launch a new closed-end fund, Pershing Square USA, which could double his total assets under management. However, his fund\\u00c3\\u00a2\\u00c2\\u0080\\u00c2\\u0099s initial public offering was scrapped on July 31 as he couldn't garner the desired funding.\\n\\nStory continues\\n\\nNonetheless, Ackman's latest investment in Nike, Inc. (NYSE:NKE) has stirred investors, as the stock made a stellar comeback after recording its worst-ever performance in June. As of the end of the second quarter of 2024, Ackman's Pershing Square Capital Management holds over three million shares of NKE.\\n\\nNike's slowing sales have been a cause for concern for investors. The company expected its earnings to decline by at least 10% in the fiscal first quarter of 2025 (ended August) due to sluggish demand from China. Consequently, NKE stock declined by 21% intraday following its earnings release.\\n\\nAckman's endorsement has rejuvenated optimism about Nike stock, as NKE shares have increased by over 9% over the past month.\\n\\nRead More:\\n\\nPrivate credit outperformed both high-yield bonds and equities in the last 3 market downturns (2008, COVID and 2022). Should you be adding private credit to your portfolio? Allocating just 5% of your portfolio to this asset class could bring you big returns. Should you be invested in fine art?\\n\\nWarren Buffett's Strategic Move With Ulta Beauty Investment\\n\\nStock market guru Warren Buffett's investment portfolio was scrutinized after the world's sixth-richest man reduced his stake in tech behemoth Apple Inc. (NASDAQ:AAPL) last quarter. Buffett also held $277 billion in cash as of the end of the second quarter, a move that drew significant attention from Wall Street, with Elon Musk labeling it \\\"wild.\\\"\\n\\nBuffett also invested a significant portion of his portfolio in Ulta Beauty Inc. (NASDAQ:ULTA), with his total investment valued at approximately $266 million as of June 30.\\n\\nHowever, the company's financials took a hit in the last quarter, as its revenues and earnings were lower than the consensus estimates for the quarter ended August 3. But Ulta Beauty's CEO Dave Kimbell chalked this up to an \\\"unanticipated operational disruption,\\\" claiming they had \\\"actions underway to address the trends.\\\"\\n\\nNonetheless, Ulta Beauty has been taking active steps to accelerate sales, primarily through endorsements with high-profile celebrities and upscaling its loyalty program and promotional levers. The Oracle of Omaha has invested in ULTA stock, which has risen by over 10% over the past month.\\n\\nA 9% Return In Just 3 Months\\n\\nEquityMultiple's \\u00c3\\u00a2\\u00c2\\u0080\\u00c2\\u0098Alpine Note \\u00c3\\u00a2\\u00c2\\u0080\\u00c2\\u0094 Basecamp Series' is turning heads and opening wallets. This short-term note investment offers investors a 9% rate of return (APY) with just a 3 month term and $5K minimum. The Basecamp rate is at a significant spread to t-bills. This healthy rate of return won't last long. With the Fed poised to cut interest rates in the near future, now could be the time to lock in a favorable rate of return with a flexible, relatively liquid investment option.\\n\\nWhat's more, Alpine Note \\u00c3\\u00a2\\u00c2\\u0080\\u00c2\\u0094 Basecamp can be rolled into another Alpine Note for compounding returns, or into another of EquityMultiple's rigorously vetted real estate investments, which also carry a minimum investment of just $5K. Basecamp is exclusively open to new investors on the EquityMultiple platform.\\n\\nLooking for fractional real estate investment opportunities? The Benzinga Real Estate Screener features the latest offerings.\\n\\nThis article Billionaires Are Buying Retail Stocks, Shrugging Off Recession Fears originally appeared on Benzinga.com\\n\\nView comments\"\n        ],\n        \"semantic_type\": \"\",\n        \"description\": \"\"\n      }\n    },\n    {\n      \"column\": \"symbols\",\n      \"properties\": {\n        \"dtype\": \"category\",\n        \"num_unique_values\": 13670,\n        \"samples\": [\n          \"0QF.F, AAPL.US, CCRN.US, DKS.US, DSG.F, GSPC.INDX, MRNA.US, NVDA.US, OM6.F, ORLY.US\",\n          \"AAPL.MX, AAPL.US, AAPL34.SA, APC.F, APC.XETRA, W1DC34.SA, WDC.F, WDC.MX, WDC.US\",\n          \"AAPL.MX, AAPL.US, AAPL34.SA, ABEA.F, ABEA.XETRA, ABEC.F, ABEC.XETRA, APC.F, APC.XETRA, GOGL34.SA, GOGL35.SA, GOOG.MI, GOOG.MX, GOOG.US, GOOGL.US, NYT.F, NYT.US, TWR.F\"\n        ],\n        \"semantic_type\": \"\",\n        \"description\": \"\"\n      }\n    }\n  ]\n}"
            }
          },
          "metadata": {},
          "execution_count": 25
        }
      ],
      "source": [
        "news_df.info()\n",
        "news_df.head()"
      ]
    },
    {
      "cell_type": "code",
      "execution_count": null,
      "id": "7bef2e27",
      "metadata": {
        "colab": {
          "base_uri": "https://localhost:8080/"
        },
        "id": "7bef2e27",
        "outputId": "89f526b7-be6c-48cb-bb9b-0b57d7974d81"
      },
      "outputs": [
        {
          "output_type": "stream",
          "name": "stdout",
          "text": [
            "<class 'pandas.core.frame.DataFrame'>\n",
            "RangeIndex: 1004 entries, 0 to 1003\n",
            "Data columns (total 6 columns):\n",
            " #   Column  Non-Null Count  Dtype  \n",
            "---  ------  --------------  -----  \n",
            " 0   Date    1004 non-null   object \n",
            " 1   Close   1004 non-null   float64\n",
            " 2   High    1004 non-null   float64\n",
            " 3   Low     1004 non-null   float64\n",
            " 4   Open    1004 non-null   float64\n",
            " 5   Volume  1004 non-null   int64  \n",
            "dtypes: float64(4), int64(1), object(1)\n",
            "memory usage: 47.2+ KB\n"
          ]
        }
      ],
      "source": [
        "price_df.head()\n",
        "price_df.info()"
      ]
    },
    {
      "cell_type": "code",
      "execution_count": null,
      "id": "816add37",
      "metadata": {
        "id": "816add37"
      },
      "outputs": [],
      "source": [
        "price_df['Date'] = pd.to_datetime(price_df['Date'], format='%d-%m-%Y', errors='coerce')\n",
        "news_df['date'] = pd.to_datetime(news_df['date'], format='%Y-%m-%dT%H:%M:%S%z', errors='coerce').dt.date\n",
        "news_df['date'] = pd.to_datetime(news_df['date'], format='%Y-%m-%d', errors='coerce')\n"
      ]
    },
    {
      "cell_type": "code",
      "execution_count": null,
      "id": "48b70faa",
      "metadata": {
        "colab": {
          "base_uri": "https://localhost:8080/",
          "height": 484
        },
        "id": "48b70faa",
        "outputId": "f9cec66d-71ae-4cef-82eb-6f6f724436ca"
      },
      "outputs": [
        {
          "output_type": "stream",
          "name": "stdout",
          "text": [
            "\n",
            "Cleaned Stock Data:\n",
            "<class 'pandas.core.frame.DataFrame'>\n",
            "RangeIndex: 1004 entries, 0 to 1003\n",
            "Data columns (total 6 columns):\n",
            " #   Column  Non-Null Count  Dtype         \n",
            "---  ------  --------------  -----         \n",
            " 0   Date    1004 non-null   datetime64[ns]\n",
            " 1   Close   1004 non-null   float64       \n",
            " 2   High    1004 non-null   float64       \n",
            " 3   Low     1004 non-null   float64       \n",
            " 4   Open    1004 non-null   float64       \n",
            " 5   Volume  1004 non-null   int64         \n",
            "dtypes: datetime64[ns](1), float64(4), int64(1)\n",
            "memory usage: 47.2 KB\n",
            "None\n"
          ]
        },
        {
          "output_type": "execute_result",
          "data": {
            "text/plain": [
              "        Date       Close        High         Low        Open     Volume\n",
              "0 2021-01-04  126.405250  130.507728  123.816779  130.419822  143301900\n",
              "1 2021-01-05  127.968094  128.681155  125.447997  125.897323   97664900\n",
              "2 2021-01-06  123.660484  128.007165  123.445591  124.754482  155088000\n",
              "3 2021-01-07  127.880196  128.573717  124.891248  125.379638  109578200\n",
              "4 2021-01-08  128.983948  129.550483  127.206199  129.355114  105158200"
            ],
            "text/html": [
              "\n",
              "  <div id=\"df-f9555acc-0f0a-4fc1-9a1b-f4e7e4778ee9\" class=\"colab-df-container\">\n",
              "    <div>\n",
              "<style scoped>\n",
              "    .dataframe tbody tr th:only-of-type {\n",
              "        vertical-align: middle;\n",
              "    }\n",
              "\n",
              "    .dataframe tbody tr th {\n",
              "        vertical-align: top;\n",
              "    }\n",
              "\n",
              "    .dataframe thead th {\n",
              "        text-align: right;\n",
              "    }\n",
              "</style>\n",
              "<table border=\"1\" class=\"dataframe\">\n",
              "  <thead>\n",
              "    <tr style=\"text-align: right;\">\n",
              "      <th></th>\n",
              "      <th>Date</th>\n",
              "      <th>Close</th>\n",
              "      <th>High</th>\n",
              "      <th>Low</th>\n",
              "      <th>Open</th>\n",
              "      <th>Volume</th>\n",
              "    </tr>\n",
              "  </thead>\n",
              "  <tbody>\n",
              "    <tr>\n",
              "      <th>0</th>\n",
              "      <td>2021-01-04</td>\n",
              "      <td>126.405250</td>\n",
              "      <td>130.507728</td>\n",
              "      <td>123.816779</td>\n",
              "      <td>130.419822</td>\n",
              "      <td>143301900</td>\n",
              "    </tr>\n",
              "    <tr>\n",
              "      <th>1</th>\n",
              "      <td>2021-01-05</td>\n",
              "      <td>127.968094</td>\n",
              "      <td>128.681155</td>\n",
              "      <td>125.447997</td>\n",
              "      <td>125.897323</td>\n",
              "      <td>97664900</td>\n",
              "    </tr>\n",
              "    <tr>\n",
              "      <th>2</th>\n",
              "      <td>2021-01-06</td>\n",
              "      <td>123.660484</td>\n",
              "      <td>128.007165</td>\n",
              "      <td>123.445591</td>\n",
              "      <td>124.754482</td>\n",
              "      <td>155088000</td>\n",
              "    </tr>\n",
              "    <tr>\n",
              "      <th>3</th>\n",
              "      <td>2021-01-07</td>\n",
              "      <td>127.880196</td>\n",
              "      <td>128.573717</td>\n",
              "      <td>124.891248</td>\n",
              "      <td>125.379638</td>\n",
              "      <td>109578200</td>\n",
              "    </tr>\n",
              "    <tr>\n",
              "      <th>4</th>\n",
              "      <td>2021-01-08</td>\n",
              "      <td>128.983948</td>\n",
              "      <td>129.550483</td>\n",
              "      <td>127.206199</td>\n",
              "      <td>129.355114</td>\n",
              "      <td>105158200</td>\n",
              "    </tr>\n",
              "  </tbody>\n",
              "</table>\n",
              "</div>\n",
              "    <div class=\"colab-df-buttons\">\n",
              "\n",
              "  <div class=\"colab-df-container\">\n",
              "    <button class=\"colab-df-convert\" onclick=\"convertToInteractive('df-f9555acc-0f0a-4fc1-9a1b-f4e7e4778ee9')\"\n",
              "            title=\"Convert this dataframe to an interactive table.\"\n",
              "            style=\"display:none;\">\n",
              "\n",
              "  <svg xmlns=\"http://www.w3.org/2000/svg\" height=\"24px\" viewBox=\"0 -960 960 960\">\n",
              "    <path d=\"M120-120v-720h720v720H120Zm60-500h600v-160H180v160Zm220 220h160v-160H400v160Zm0 220h160v-160H400v160ZM180-400h160v-160H180v160Zm440 0h160v-160H620v160ZM180-180h160v-160H180v160Zm440 0h160v-160H620v160Z\"/>\n",
              "  </svg>\n",
              "    </button>\n",
              "\n",
              "  <style>\n",
              "    .colab-df-container {\n",
              "      display:flex;\n",
              "      gap: 12px;\n",
              "    }\n",
              "\n",
              "    .colab-df-convert {\n",
              "      background-color: #E8F0FE;\n",
              "      border: none;\n",
              "      border-radius: 50%;\n",
              "      cursor: pointer;\n",
              "      display: none;\n",
              "      fill: #1967D2;\n",
              "      height: 32px;\n",
              "      padding: 0 0 0 0;\n",
              "      width: 32px;\n",
              "    }\n",
              "\n",
              "    .colab-df-convert:hover {\n",
              "      background-color: #E2EBFA;\n",
              "      box-shadow: 0px 1px 2px rgba(60, 64, 67, 0.3), 0px 1px 3px 1px rgba(60, 64, 67, 0.15);\n",
              "      fill: #174EA6;\n",
              "    }\n",
              "\n",
              "    .colab-df-buttons div {\n",
              "      margin-bottom: 4px;\n",
              "    }\n",
              "\n",
              "    [theme=dark] .colab-df-convert {\n",
              "      background-color: #3B4455;\n",
              "      fill: #D2E3FC;\n",
              "    }\n",
              "\n",
              "    [theme=dark] .colab-df-convert:hover {\n",
              "      background-color: #434B5C;\n",
              "      box-shadow: 0px 1px 3px 1px rgba(0, 0, 0, 0.15);\n",
              "      filter: drop-shadow(0px 1px 2px rgba(0, 0, 0, 0.3));\n",
              "      fill: #FFFFFF;\n",
              "    }\n",
              "  </style>\n",
              "\n",
              "    <script>\n",
              "      const buttonEl =\n",
              "        document.querySelector('#df-f9555acc-0f0a-4fc1-9a1b-f4e7e4778ee9 button.colab-df-convert');\n",
              "      buttonEl.style.display =\n",
              "        google.colab.kernel.accessAllowed ? 'block' : 'none';\n",
              "\n",
              "      async function convertToInteractive(key) {\n",
              "        const element = document.querySelector('#df-f9555acc-0f0a-4fc1-9a1b-f4e7e4778ee9');\n",
              "        const dataTable =\n",
              "          await google.colab.kernel.invokeFunction('convertToInteractive',\n",
              "                                                    [key], {});\n",
              "        if (!dataTable) return;\n",
              "\n",
              "        const docLinkHtml = 'Like what you see? Visit the ' +\n",
              "          '<a target=\"_blank\" href=https://colab.research.google.com/notebooks/data_table.ipynb>data table notebook</a>'\n",
              "          + ' to learn more about interactive tables.';\n",
              "        element.innerHTML = '';\n",
              "        dataTable['output_type'] = 'display_data';\n",
              "        await google.colab.output.renderOutput(dataTable, element);\n",
              "        const docLink = document.createElement('div');\n",
              "        docLink.innerHTML = docLinkHtml;\n",
              "        element.appendChild(docLink);\n",
              "      }\n",
              "    </script>\n",
              "  </div>\n",
              "\n",
              "\n",
              "<div id=\"df-59dc6080-6e2d-46b8-9f4e-fade00a381c3\">\n",
              "  <button class=\"colab-df-quickchart\" onclick=\"quickchart('df-59dc6080-6e2d-46b8-9f4e-fade00a381c3')\"\n",
              "            title=\"Suggest charts\"\n",
              "            style=\"display:none;\">\n",
              "\n",
              "<svg xmlns=\"http://www.w3.org/2000/svg\" height=\"24px\"viewBox=\"0 0 24 24\"\n",
              "     width=\"24px\">\n",
              "    <g>\n",
              "        <path d=\"M19 3H5c-1.1 0-2 .9-2 2v14c0 1.1.9 2 2 2h14c1.1 0 2-.9 2-2V5c0-1.1-.9-2-2-2zM9 17H7v-7h2v7zm4 0h-2V7h2v10zm4 0h-2v-4h2v4z\"/>\n",
              "    </g>\n",
              "</svg>\n",
              "  </button>\n",
              "\n",
              "<style>\n",
              "  .colab-df-quickchart {\n",
              "      --bg-color: #E8F0FE;\n",
              "      --fill-color: #1967D2;\n",
              "      --hover-bg-color: #E2EBFA;\n",
              "      --hover-fill-color: #174EA6;\n",
              "      --disabled-fill-color: #AAA;\n",
              "      --disabled-bg-color: #DDD;\n",
              "  }\n",
              "\n",
              "  [theme=dark] .colab-df-quickchart {\n",
              "      --bg-color: #3B4455;\n",
              "      --fill-color: #D2E3FC;\n",
              "      --hover-bg-color: #434B5C;\n",
              "      --hover-fill-color: #FFFFFF;\n",
              "      --disabled-bg-color: #3B4455;\n",
              "      --disabled-fill-color: #666;\n",
              "  }\n",
              "\n",
              "  .colab-df-quickchart {\n",
              "    background-color: var(--bg-color);\n",
              "    border: none;\n",
              "    border-radius: 50%;\n",
              "    cursor: pointer;\n",
              "    display: none;\n",
              "    fill: var(--fill-color);\n",
              "    height: 32px;\n",
              "    padding: 0;\n",
              "    width: 32px;\n",
              "  }\n",
              "\n",
              "  .colab-df-quickchart:hover {\n",
              "    background-color: var(--hover-bg-color);\n",
              "    box-shadow: 0 1px 2px rgba(60, 64, 67, 0.3), 0 1px 3px 1px rgba(60, 64, 67, 0.15);\n",
              "    fill: var(--button-hover-fill-color);\n",
              "  }\n",
              "\n",
              "  .colab-df-quickchart-complete:disabled,\n",
              "  .colab-df-quickchart-complete:disabled:hover {\n",
              "    background-color: var(--disabled-bg-color);\n",
              "    fill: var(--disabled-fill-color);\n",
              "    box-shadow: none;\n",
              "  }\n",
              "\n",
              "  .colab-df-spinner {\n",
              "    border: 2px solid var(--fill-color);\n",
              "    border-color: transparent;\n",
              "    border-bottom-color: var(--fill-color);\n",
              "    animation:\n",
              "      spin 1s steps(1) infinite;\n",
              "  }\n",
              "\n",
              "  @keyframes spin {\n",
              "    0% {\n",
              "      border-color: transparent;\n",
              "      border-bottom-color: var(--fill-color);\n",
              "      border-left-color: var(--fill-color);\n",
              "    }\n",
              "    20% {\n",
              "      border-color: transparent;\n",
              "      border-left-color: var(--fill-color);\n",
              "      border-top-color: var(--fill-color);\n",
              "    }\n",
              "    30% {\n",
              "      border-color: transparent;\n",
              "      border-left-color: var(--fill-color);\n",
              "      border-top-color: var(--fill-color);\n",
              "      border-right-color: var(--fill-color);\n",
              "    }\n",
              "    40% {\n",
              "      border-color: transparent;\n",
              "      border-right-color: var(--fill-color);\n",
              "      border-top-color: var(--fill-color);\n",
              "    }\n",
              "    60% {\n",
              "      border-color: transparent;\n",
              "      border-right-color: var(--fill-color);\n",
              "    }\n",
              "    80% {\n",
              "      border-color: transparent;\n",
              "      border-right-color: var(--fill-color);\n",
              "      border-bottom-color: var(--fill-color);\n",
              "    }\n",
              "    90% {\n",
              "      border-color: transparent;\n",
              "      border-bottom-color: var(--fill-color);\n",
              "    }\n",
              "  }\n",
              "</style>\n",
              "\n",
              "  <script>\n",
              "    async function quickchart(key) {\n",
              "      const quickchartButtonEl =\n",
              "        document.querySelector('#' + key + ' button');\n",
              "      quickchartButtonEl.disabled = true;  // To prevent multiple clicks.\n",
              "      quickchartButtonEl.classList.add('colab-df-spinner');\n",
              "      try {\n",
              "        const charts = await google.colab.kernel.invokeFunction(\n",
              "            'suggestCharts', [key], {});\n",
              "      } catch (error) {\n",
              "        console.error('Error during call to suggestCharts:', error);\n",
              "      }\n",
              "      quickchartButtonEl.classList.remove('colab-df-spinner');\n",
              "      quickchartButtonEl.classList.add('colab-df-quickchart-complete');\n",
              "    }\n",
              "    (() => {\n",
              "      let quickchartButtonEl =\n",
              "        document.querySelector('#df-59dc6080-6e2d-46b8-9f4e-fade00a381c3 button');\n",
              "      quickchartButtonEl.style.display =\n",
              "        google.colab.kernel.accessAllowed ? 'block' : 'none';\n",
              "    })();\n",
              "  </script>\n",
              "</div>\n",
              "\n",
              "    </div>\n",
              "  </div>\n"
            ],
            "application/vnd.google.colaboratory.intrinsic+json": {
              "type": "dataframe",
              "variable_name": "price_df",
              "summary": "{\n  \"name\": \"price_df\",\n  \"rows\": 1004,\n  \"fields\": [\n    {\n      \"column\": \"Date\",\n      \"properties\": {\n        \"dtype\": \"date\",\n        \"min\": \"2021-01-04 00:00:00\",\n        \"max\": \"2024-12-30 00:00:00\",\n        \"num_unique_values\": 1004,\n        \"samples\": [\n          \"2024-09-10 00:00:00\",\n          \"2023-07-07 00:00:00\",\n          \"2023-09-20 00:00:00\"\n        ],\n        \"semantic_type\": \"\",\n        \"description\": \"\"\n      }\n    },\n    {\n      \"column\": \"Close\",\n      \"properties\": {\n        \"dtype\": \"number\",\n        \"std\": 31.37150988759027,\n        \"min\": 113.8280792,\n        \"max\": 258.7355042,\n        \"num_unique_values\": 991,\n        \"samples\": [\n          148.2164612,\n          163.372757,\n          129.2275085\n        ],\n        \"semantic_type\": \"\",\n        \"description\": \"\"\n      }\n    },\n    {\n      \"column\": \"High\",\n      \"properties\": {\n        \"dtype\": \"number\",\n        \"std\": 31.407708904794184,\n        \"min\": 117.7801818,\n        \"max\": 259.814335,\n        \"num_unique_values\": 1004,\n        \"samples\": [\n          220.9936193,\n          191.0102004,\n          178.3925098\n        ],\n        \"semantic_type\": \"\",\n        \"description\": \"\"\n      }\n    },\n    {\n      \"column\": \"Low\",\n      \"properties\": {\n        \"dtype\": \"number\",\n        \"std\": 31.21694189768485,\n        \"min\": 113.6813416,\n        \"max\": 257.3470467,\n        \"num_unique_values\": 1003,\n        \"samples\": [\n          189.6123504,\n          187.5700918,\n          188.5463024\n        ],\n        \"semantic_type\": \"\",\n        \"description\": \"\"\n      }\n    },\n    {\n      \"column\": \"Open\",\n      \"properties\": {\n        \"dtype\": \"number\",\n        \"std\": 31.28345080331802,\n        \"min\": 116.4400036,\n        \"max\": 257.9064292,\n        \"num_unique_values\": 1004,\n        \"samples\": [\n          218.4392435,\n          189.7610604,\n          177.9557088\n        ],\n        \"semantic_type\": \"\",\n        \"description\": \"\"\n      }\n    },\n    {\n      \"column\": \"Volume\",\n      \"properties\": {\n        \"dtype\": \"number\",\n        \"std\": 30181837,\n        \"min\": 23234700,\n        \"max\": 318679900,\n        \"num_unique_values\": 1002,\n        \"samples\": [\n          77663600,\n          70404200,\n          73711200\n        ],\n        \"semantic_type\": \"\",\n        \"description\": \"\"\n      }\n    }\n  ]\n}"
            }
          },
          "metadata": {},
          "execution_count": 28
        }
      ],
      "source": [
        "print(\"\\nCleaned Stock Data:\")\n",
        "print(price_df.info())\n",
        "price_df.head()"
      ]
    },
    {
      "cell_type": "code",
      "execution_count": null,
      "id": "0ed83630",
      "metadata": {
        "colab": {
          "base_uri": "https://localhost:8080/",
          "height": 622
        },
        "id": "0ed83630",
        "outputId": "0e153b52-05e4-4c46-f7c2-f5f6432d7b0c"
      },
      "outputs": [
        {
          "output_type": "stream",
          "name": "stdout",
          "text": [
            "\n",
            "Cleaned News Data:\n",
            "<class 'pandas.core.frame.DataFrame'>\n",
            "RangeIndex: 29188 entries, 0 to 29187\n",
            "Data columns (total 4 columns):\n",
            " #   Column   Non-Null Count  Dtype         \n",
            "---  ------   --------------  -----         \n",
            " 0   date     0 non-null      datetime64[ns]\n",
            " 1   title    29188 non-null  object        \n",
            " 2   content  29188 non-null  object        \n",
            " 3   symbols  29188 non-null  object        \n",
            "dtypes: datetime64[ns](1), object(3)\n",
            "memory usage: 912.3+ KB\n",
            "None\n"
          ]
        },
        {
          "output_type": "execute_result",
          "data": {
            "text/plain": [
              "  date                                              title  \\\n",
              "0  NaT  World's 4th Largest Automaker Set To Take Shap...   \n",
              "1  NaT  Foxconn Seals Manufacturing Deal With Chinese ...   \n",
              "2  NaT  ChinaÃ¢ÂÂs Dreams of Self-Reliance Still Dep...   \n",
              "3  NaT  iPhone Supply Chain Sends Bullish Signal on 5G...   \n",
              "4  NaT  Two former Apple insiders are building a laser...   \n",
              "\n",
              "                                             content  \\\n",
              "0  Shareholders are scheduled to vote on the merg...   \n",
              "1  (Bloomberg) -- Apple Inc. supplier Foxconn Tec...   \n",
              "2  (Bloomberg Opinion) -- For signs of how ChinaÃ...   \n",
              "3  (Bloomberg) -- IPhone suppliers are racing to ...   \n",
              "4  Aeva co-founder and CEO Soroush Salehian Ã¢ÂÂ...   \n",
              "\n",
              "                                             symbols  \n",
              "0    AAPL.US, FCA.MI, FCAU.US, PEU.F, TSLA.US, UG.PA  \n",
              "1  300750.SHE, AAPL.US, BAMXF.US, BMWYY.US, BYMOF...  \n",
              "2  AAPL.US, GS-PA.US, GS-PD.US, GS-PJ.US, GS-PK.U...  \n",
              "3  005930.KO, 005935.KO, AAPL.US, BCLYF.US, BCS.U...  \n",
              "4  AAPL.US, CF.US, GMHIU.US, IPV-UN.US, IPV.US, L...  "
            ],
            "text/html": [
              "\n",
              "  <div id=\"df-27735d47-a371-45dd-9842-236763df9421\" class=\"colab-df-container\">\n",
              "    <div>\n",
              "<style scoped>\n",
              "    .dataframe tbody tr th:only-of-type {\n",
              "        vertical-align: middle;\n",
              "    }\n",
              "\n",
              "    .dataframe tbody tr th {\n",
              "        vertical-align: top;\n",
              "    }\n",
              "\n",
              "    .dataframe thead th {\n",
              "        text-align: right;\n",
              "    }\n",
              "</style>\n",
              "<table border=\"1\" class=\"dataframe\">\n",
              "  <thead>\n",
              "    <tr style=\"text-align: right;\">\n",
              "      <th></th>\n",
              "      <th>date</th>\n",
              "      <th>title</th>\n",
              "      <th>content</th>\n",
              "      <th>symbols</th>\n",
              "    </tr>\n",
              "  </thead>\n",
              "  <tbody>\n",
              "    <tr>\n",
              "      <th>0</th>\n",
              "      <td>NaT</td>\n",
              "      <td>World's 4th Largest Automaker Set To Take Shap...</td>\n",
              "      <td>Shareholders are scheduled to vote on the merg...</td>\n",
              "      <td>AAPL.US, FCA.MI, FCAU.US, PEU.F, TSLA.US, UG.PA</td>\n",
              "    </tr>\n",
              "    <tr>\n",
              "      <th>1</th>\n",
              "      <td>NaT</td>\n",
              "      <td>Foxconn Seals Manufacturing Deal With Chinese ...</td>\n",
              "      <td>(Bloomberg) -- Apple Inc. supplier Foxconn Tec...</td>\n",
              "      <td>300750.SHE, AAPL.US, BAMXF.US, BMWYY.US, BYMOF...</td>\n",
              "    </tr>\n",
              "    <tr>\n",
              "      <th>2</th>\n",
              "      <td>NaT</td>\n",
              "      <td>ChinaÃ¢ÂÂs Dreams of Self-Reliance Still Dep...</td>\n",
              "      <td>(Bloomberg Opinion) -- For signs of how ChinaÃ...</td>\n",
              "      <td>AAPL.US, GS-PA.US, GS-PD.US, GS-PJ.US, GS-PK.U...</td>\n",
              "    </tr>\n",
              "    <tr>\n",
              "      <th>3</th>\n",
              "      <td>NaT</td>\n",
              "      <td>iPhone Supply Chain Sends Bullish Signal on 5G...</td>\n",
              "      <td>(Bloomberg) -- IPhone suppliers are racing to ...</td>\n",
              "      <td>005930.KO, 005935.KO, AAPL.US, BCLYF.US, BCS.U...</td>\n",
              "    </tr>\n",
              "    <tr>\n",
              "      <th>4</th>\n",
              "      <td>NaT</td>\n",
              "      <td>Two former Apple insiders are building a laser...</td>\n",
              "      <td>Aeva co-founder and CEO Soroush Salehian Ã¢ÂÂ...</td>\n",
              "      <td>AAPL.US, CF.US, GMHIU.US, IPV-UN.US, IPV.US, L...</td>\n",
              "    </tr>\n",
              "  </tbody>\n",
              "</table>\n",
              "</div>\n",
              "    <div class=\"colab-df-buttons\">\n",
              "\n",
              "  <div class=\"colab-df-container\">\n",
              "    <button class=\"colab-df-convert\" onclick=\"convertToInteractive('df-27735d47-a371-45dd-9842-236763df9421')\"\n",
              "            title=\"Convert this dataframe to an interactive table.\"\n",
              "            style=\"display:none;\">\n",
              "\n",
              "  <svg xmlns=\"http://www.w3.org/2000/svg\" height=\"24px\" viewBox=\"0 -960 960 960\">\n",
              "    <path d=\"M120-120v-720h720v720H120Zm60-500h600v-160H180v160Zm220 220h160v-160H400v160Zm0 220h160v-160H400v160ZM180-400h160v-160H180v160Zm440 0h160v-160H620v160ZM180-180h160v-160H180v160Zm440 0h160v-160H620v160Z\"/>\n",
              "  </svg>\n",
              "    </button>\n",
              "\n",
              "  <style>\n",
              "    .colab-df-container {\n",
              "      display:flex;\n",
              "      gap: 12px;\n",
              "    }\n",
              "\n",
              "    .colab-df-convert {\n",
              "      background-color: #E8F0FE;\n",
              "      border: none;\n",
              "      border-radius: 50%;\n",
              "      cursor: pointer;\n",
              "      display: none;\n",
              "      fill: #1967D2;\n",
              "      height: 32px;\n",
              "      padding: 0 0 0 0;\n",
              "      width: 32px;\n",
              "    }\n",
              "\n",
              "    .colab-df-convert:hover {\n",
              "      background-color: #E2EBFA;\n",
              "      box-shadow: 0px 1px 2px rgba(60, 64, 67, 0.3), 0px 1px 3px 1px rgba(60, 64, 67, 0.15);\n",
              "      fill: #174EA6;\n",
              "    }\n",
              "\n",
              "    .colab-df-buttons div {\n",
              "      margin-bottom: 4px;\n",
              "    }\n",
              "\n",
              "    [theme=dark] .colab-df-convert {\n",
              "      background-color: #3B4455;\n",
              "      fill: #D2E3FC;\n",
              "    }\n",
              "\n",
              "    [theme=dark] .colab-df-convert:hover {\n",
              "      background-color: #434B5C;\n",
              "      box-shadow: 0px 1px 3px 1px rgba(0, 0, 0, 0.15);\n",
              "      filter: drop-shadow(0px 1px 2px rgba(0, 0, 0, 0.3));\n",
              "      fill: #FFFFFF;\n",
              "    }\n",
              "  </style>\n",
              "\n",
              "    <script>\n",
              "      const buttonEl =\n",
              "        document.querySelector('#df-27735d47-a371-45dd-9842-236763df9421 button.colab-df-convert');\n",
              "      buttonEl.style.display =\n",
              "        google.colab.kernel.accessAllowed ? 'block' : 'none';\n",
              "\n",
              "      async function convertToInteractive(key) {\n",
              "        const element = document.querySelector('#df-27735d47-a371-45dd-9842-236763df9421');\n",
              "        const dataTable =\n",
              "          await google.colab.kernel.invokeFunction('convertToInteractive',\n",
              "                                                    [key], {});\n",
              "        if (!dataTable) return;\n",
              "\n",
              "        const docLinkHtml = 'Like what you see? Visit the ' +\n",
              "          '<a target=\"_blank\" href=https://colab.research.google.com/notebooks/data_table.ipynb>data table notebook</a>'\n",
              "          + ' to learn more about interactive tables.';\n",
              "        element.innerHTML = '';\n",
              "        dataTable['output_type'] = 'display_data';\n",
              "        await google.colab.output.renderOutput(dataTable, element);\n",
              "        const docLink = document.createElement('div');\n",
              "        docLink.innerHTML = docLinkHtml;\n",
              "        element.appendChild(docLink);\n",
              "      }\n",
              "    </script>\n",
              "  </div>\n",
              "\n",
              "\n",
              "<div id=\"df-a19c3c7d-f42e-4ae4-9de2-444ceea46a5d\">\n",
              "  <button class=\"colab-df-quickchart\" onclick=\"quickchart('df-a19c3c7d-f42e-4ae4-9de2-444ceea46a5d')\"\n",
              "            title=\"Suggest charts\"\n",
              "            style=\"display:none;\">\n",
              "\n",
              "<svg xmlns=\"http://www.w3.org/2000/svg\" height=\"24px\"viewBox=\"0 0 24 24\"\n",
              "     width=\"24px\">\n",
              "    <g>\n",
              "        <path d=\"M19 3H5c-1.1 0-2 .9-2 2v14c0 1.1.9 2 2 2h14c1.1 0 2-.9 2-2V5c0-1.1-.9-2-2-2zM9 17H7v-7h2v7zm4 0h-2V7h2v10zm4 0h-2v-4h2v4z\"/>\n",
              "    </g>\n",
              "</svg>\n",
              "  </button>\n",
              "\n",
              "<style>\n",
              "  .colab-df-quickchart {\n",
              "      --bg-color: #E8F0FE;\n",
              "      --fill-color: #1967D2;\n",
              "      --hover-bg-color: #E2EBFA;\n",
              "      --hover-fill-color: #174EA6;\n",
              "      --disabled-fill-color: #AAA;\n",
              "      --disabled-bg-color: #DDD;\n",
              "  }\n",
              "\n",
              "  [theme=dark] .colab-df-quickchart {\n",
              "      --bg-color: #3B4455;\n",
              "      --fill-color: #D2E3FC;\n",
              "      --hover-bg-color: #434B5C;\n",
              "      --hover-fill-color: #FFFFFF;\n",
              "      --disabled-bg-color: #3B4455;\n",
              "      --disabled-fill-color: #666;\n",
              "  }\n",
              "\n",
              "  .colab-df-quickchart {\n",
              "    background-color: var(--bg-color);\n",
              "    border: none;\n",
              "    border-radius: 50%;\n",
              "    cursor: pointer;\n",
              "    display: none;\n",
              "    fill: var(--fill-color);\n",
              "    height: 32px;\n",
              "    padding: 0;\n",
              "    width: 32px;\n",
              "  }\n",
              "\n",
              "  .colab-df-quickchart:hover {\n",
              "    background-color: var(--hover-bg-color);\n",
              "    box-shadow: 0 1px 2px rgba(60, 64, 67, 0.3), 0 1px 3px 1px rgba(60, 64, 67, 0.15);\n",
              "    fill: var(--button-hover-fill-color);\n",
              "  }\n",
              "\n",
              "  .colab-df-quickchart-complete:disabled,\n",
              "  .colab-df-quickchart-complete:disabled:hover {\n",
              "    background-color: var(--disabled-bg-color);\n",
              "    fill: var(--disabled-fill-color);\n",
              "    box-shadow: none;\n",
              "  }\n",
              "\n",
              "  .colab-df-spinner {\n",
              "    border: 2px solid var(--fill-color);\n",
              "    border-color: transparent;\n",
              "    border-bottom-color: var(--fill-color);\n",
              "    animation:\n",
              "      spin 1s steps(1) infinite;\n",
              "  }\n",
              "\n",
              "  @keyframes spin {\n",
              "    0% {\n",
              "      border-color: transparent;\n",
              "      border-bottom-color: var(--fill-color);\n",
              "      border-left-color: var(--fill-color);\n",
              "    }\n",
              "    20% {\n",
              "      border-color: transparent;\n",
              "      border-left-color: var(--fill-color);\n",
              "      border-top-color: var(--fill-color);\n",
              "    }\n",
              "    30% {\n",
              "      border-color: transparent;\n",
              "      border-left-color: var(--fill-color);\n",
              "      border-top-color: var(--fill-color);\n",
              "      border-right-color: var(--fill-color);\n",
              "    }\n",
              "    40% {\n",
              "      border-color: transparent;\n",
              "      border-right-color: var(--fill-color);\n",
              "      border-top-color: var(--fill-color);\n",
              "    }\n",
              "    60% {\n",
              "      border-color: transparent;\n",
              "      border-right-color: var(--fill-color);\n",
              "    }\n",
              "    80% {\n",
              "      border-color: transparent;\n",
              "      border-right-color: var(--fill-color);\n",
              "      border-bottom-color: var(--fill-color);\n",
              "    }\n",
              "    90% {\n",
              "      border-color: transparent;\n",
              "      border-bottom-color: var(--fill-color);\n",
              "    }\n",
              "  }\n",
              "</style>\n",
              "\n",
              "  <script>\n",
              "    async function quickchart(key) {\n",
              "      const quickchartButtonEl =\n",
              "        document.querySelector('#' + key + ' button');\n",
              "      quickchartButtonEl.disabled = true;  // To prevent multiple clicks.\n",
              "      quickchartButtonEl.classList.add('colab-df-spinner');\n",
              "      try {\n",
              "        const charts = await google.colab.kernel.invokeFunction(\n",
              "            'suggestCharts', [key], {});\n",
              "      } catch (error) {\n",
              "        console.error('Error during call to suggestCharts:', error);\n",
              "      }\n",
              "      quickchartButtonEl.classList.remove('colab-df-spinner');\n",
              "      quickchartButtonEl.classList.add('colab-df-quickchart-complete');\n",
              "    }\n",
              "    (() => {\n",
              "      let quickchartButtonEl =\n",
              "        document.querySelector('#df-a19c3c7d-f42e-4ae4-9de2-444ceea46a5d button');\n",
              "      quickchartButtonEl.style.display =\n",
              "        google.colab.kernel.accessAllowed ? 'block' : 'none';\n",
              "    })();\n",
              "  </script>\n",
              "</div>\n",
              "\n",
              "    </div>\n",
              "  </div>\n"
            ],
            "application/vnd.google.colaboratory.intrinsic+json": {
              "type": "dataframe",
              "variable_name": "news_df",
              "summary": "{\n  \"name\": \"news_df\",\n  \"rows\": 29188,\n  \"fields\": [\n    {\n      \"column\": \"date\",\n      \"properties\": {\n        \"dtype\": \"date\",\n        \"min\": \"NaT\",\n        \"max\": \"NaT\",\n        \"num_unique_values\": 0,\n        \"samples\": [],\n        \"semantic_type\": \"\",\n        \"description\": \"\"\n      }\n    },\n    {\n      \"column\": \"title\",\n      \"properties\": {\n        \"dtype\": \"string\",\n        \"num_unique_values\": 27645,\n        \"samples\": [],\n        \"semantic_type\": \"\",\n        \"description\": \"\"\n      }\n    },\n    {\n      \"column\": \"content\",\n      \"properties\": {\n        \"dtype\": \"string\",\n        \"num_unique_values\": 28127,\n        \"samples\": [],\n        \"semantic_type\": \"\",\n        \"description\": \"\"\n      }\n    },\n    {\n      \"column\": \"symbols\",\n      \"properties\": {\n        \"dtype\": \"category\",\n        \"num_unique_values\": 13670,\n        \"samples\": [],\n        \"semantic_type\": \"\",\n        \"description\": \"\"\n      }\n    }\n  ]\n}"
            }
          },
          "metadata": {},
          "execution_count": 29
        }
      ],
      "source": [
        "print(\"\\nCleaned News Data:\")\n",
        "print(news_df.info())\n",
        "news_df.head()"
      ]
    },
    {
      "cell_type": "code",
      "execution_count": null,
      "id": "815fbaa3",
      "metadata": {
        "colab": {
          "base_uri": "https://localhost:8080/"
        },
        "id": "815fbaa3",
        "outputId": "36072d90-df65-499c-ec35-bafd21978ad2"
      },
      "outputs": [
        {
          "output_type": "stream",
          "name": "stdout",
          "text": [
            "<class 'pandas.core.frame.DataFrame'>\n",
            "Index: 29177 entries, 0 to 29187\n",
            "Data columns (total 4 columns):\n",
            " #   Column   Non-Null Count  Dtype         \n",
            "---  ------   --------------  -----         \n",
            " 0   date     0 non-null      datetime64[ns]\n",
            " 1   title    29177 non-null  object        \n",
            " 2   content  29177 non-null  object        \n",
            " 3   symbols  29177 non-null  object        \n",
            "dtypes: datetime64[ns](1), object(3)\n",
            "memory usage: 1.1+ MB\n"
          ]
        }
      ],
      "source": [
        "news_df = news_df[news_df['symbols'].str.contains(\"AAPL\", na=False)]  # Filter rows related to AAPL\n",
        "news_df = news_df.drop_duplicates()  # Remove duplicates\n",
        "news_df.info()"
      ]
    },
    {
      "cell_type": "code",
      "execution_count": null,
      "id": "78875c28",
      "metadata": {
        "colab": {
          "base_uri": "https://localhost:8080/"
        },
        "id": "78875c28",
        "outputId": "974fd158-c7a3-43eb-c024-060bd711a5a2"
      },
      "outputs": [
        {
          "output_type": "stream",
          "name": "stdout",
          "text": [
            "Missing values in news_df:\n",
            "date       29177\n",
            "title          0\n",
            "content        0\n",
            "symbols        0\n",
            "dtype: int64\n",
            "Missing values in price_df:\n",
            "Date      0\n",
            "Close     0\n",
            "High      0\n",
            "Low       0\n",
            "Open      0\n",
            "Volume    0\n",
            "dtype: int64\n"
          ]
        }
      ],
      "source": [
        "# Check for missing values in the updated DataFrame\n",
        "print(\"Missing values in news_df:\")\n",
        "print(news_df.isnull().sum())\n",
        "\n",
        "# Check for missing values in the updated DataFrame\n",
        "print(\"Missing values in price_df:\")\n",
        "print(price_df.isnull().sum())"
      ]
    },
    {
      "cell_type": "code",
      "execution_count": null,
      "id": "1ca5c16c",
      "metadata": {
        "id": "1ca5c16c"
      },
      "outputs": [],
      "source": [
        "news_df = news_df.dropna(subset=['date'])"
      ]
    },
    {
      "cell_type": "code",
      "execution_count": null,
      "id": "b2709932",
      "metadata": {
        "colab": {
          "base_uri": "https://localhost:8080/",
          "height": 53
        },
        "id": "b2709932",
        "outputId": "680cf74c-0425-4c3b-ba34-7c0728d617ef"
      },
      "outputs": [
        {
          "output_type": "execute_result",
          "data": {
            "text/plain": [
              "Empty DataFrame\n",
              "Columns: [date, title, content, symbols]\n",
              "Index: []"
            ],
            "text/html": [
              "\n",
              "  <div id=\"df-1195956e-05b4-4a68-95f4-91a88416d448\" class=\"colab-df-container\">\n",
              "    <div>\n",
              "<style scoped>\n",
              "    .dataframe tbody tr th:only-of-type {\n",
              "        vertical-align: middle;\n",
              "    }\n",
              "\n",
              "    .dataframe tbody tr th {\n",
              "        vertical-align: top;\n",
              "    }\n",
              "\n",
              "    .dataframe thead th {\n",
              "        text-align: right;\n",
              "    }\n",
              "</style>\n",
              "<table border=\"1\" class=\"dataframe\">\n",
              "  <thead>\n",
              "    <tr style=\"text-align: right;\">\n",
              "      <th></th>\n",
              "      <th>date</th>\n",
              "      <th>title</th>\n",
              "      <th>content</th>\n",
              "      <th>symbols</th>\n",
              "    </tr>\n",
              "  </thead>\n",
              "  <tbody>\n",
              "  </tbody>\n",
              "</table>\n",
              "</div>\n",
              "    <div class=\"colab-df-buttons\">\n",
              "\n",
              "  <div class=\"colab-df-container\">\n",
              "    <button class=\"colab-df-convert\" onclick=\"convertToInteractive('df-1195956e-05b4-4a68-95f4-91a88416d448')\"\n",
              "            title=\"Convert this dataframe to an interactive table.\"\n",
              "            style=\"display:none;\">\n",
              "\n",
              "  <svg xmlns=\"http://www.w3.org/2000/svg\" height=\"24px\" viewBox=\"0 -960 960 960\">\n",
              "    <path d=\"M120-120v-720h720v720H120Zm60-500h600v-160H180v160Zm220 220h160v-160H400v160Zm0 220h160v-160H400v160ZM180-400h160v-160H180v160Zm440 0h160v-160H620v160ZM180-180h160v-160H180v160Zm440 0h160v-160H620v160Z\"/>\n",
              "  </svg>\n",
              "    </button>\n",
              "\n",
              "  <style>\n",
              "    .colab-df-container {\n",
              "      display:flex;\n",
              "      gap: 12px;\n",
              "    }\n",
              "\n",
              "    .colab-df-convert {\n",
              "      background-color: #E8F0FE;\n",
              "      border: none;\n",
              "      border-radius: 50%;\n",
              "      cursor: pointer;\n",
              "      display: none;\n",
              "      fill: #1967D2;\n",
              "      height: 32px;\n",
              "      padding: 0 0 0 0;\n",
              "      width: 32px;\n",
              "    }\n",
              "\n",
              "    .colab-df-convert:hover {\n",
              "      background-color: #E2EBFA;\n",
              "      box-shadow: 0px 1px 2px rgba(60, 64, 67, 0.3), 0px 1px 3px 1px rgba(60, 64, 67, 0.15);\n",
              "      fill: #174EA6;\n",
              "    }\n",
              "\n",
              "    .colab-df-buttons div {\n",
              "      margin-bottom: 4px;\n",
              "    }\n",
              "\n",
              "    [theme=dark] .colab-df-convert {\n",
              "      background-color: #3B4455;\n",
              "      fill: #D2E3FC;\n",
              "    }\n",
              "\n",
              "    [theme=dark] .colab-df-convert:hover {\n",
              "      background-color: #434B5C;\n",
              "      box-shadow: 0px 1px 3px 1px rgba(0, 0, 0, 0.15);\n",
              "      filter: drop-shadow(0px 1px 2px rgba(0, 0, 0, 0.3));\n",
              "      fill: #FFFFFF;\n",
              "    }\n",
              "  </style>\n",
              "\n",
              "    <script>\n",
              "      const buttonEl =\n",
              "        document.querySelector('#df-1195956e-05b4-4a68-95f4-91a88416d448 button.colab-df-convert');\n",
              "      buttonEl.style.display =\n",
              "        google.colab.kernel.accessAllowed ? 'block' : 'none';\n",
              "\n",
              "      async function convertToInteractive(key) {\n",
              "        const element = document.querySelector('#df-1195956e-05b4-4a68-95f4-91a88416d448');\n",
              "        const dataTable =\n",
              "          await google.colab.kernel.invokeFunction('convertToInteractive',\n",
              "                                                    [key], {});\n",
              "        if (!dataTable) return;\n",
              "\n",
              "        const docLinkHtml = 'Like what you see? Visit the ' +\n",
              "          '<a target=\"_blank\" href=https://colab.research.google.com/notebooks/data_table.ipynb>data table notebook</a>'\n",
              "          + ' to learn more about interactive tables.';\n",
              "        element.innerHTML = '';\n",
              "        dataTable['output_type'] = 'display_data';\n",
              "        await google.colab.output.renderOutput(dataTable, element);\n",
              "        const docLink = document.createElement('div');\n",
              "        docLink.innerHTML = docLinkHtml;\n",
              "        element.appendChild(docLink);\n",
              "      }\n",
              "    </script>\n",
              "  </div>\n",
              "\n",
              "\n",
              "    </div>\n",
              "  </div>\n"
            ],
            "application/vnd.google.colaboratory.intrinsic+json": {
              "type": "dataframe",
              "variable_name": "news_df",
              "repr_error": "Out of range float values are not JSON compliant: nan"
            }
          },
          "metadata": {},
          "execution_count": 33
        }
      ],
      "source": [
        "news_df.isnull().sum()\n",
        "news_df.head(10)"
      ]
    },
    {
      "cell_type": "code",
      "execution_count": null,
      "id": "9a5f03bd",
      "metadata": {
        "colab": {
          "base_uri": "https://localhost:8080/",
          "height": 348
        },
        "id": "9a5f03bd",
        "outputId": "57bcd27c-9c45-4c26-a25d-9f733f28400c"
      },
      "outputs": [
        {
          "output_type": "stream",
          "name": "stdout",
          "text": [
            "Merged DataFrame:\n",
            "<class 'pandas.core.frame.DataFrame'>\n",
            "RangeIndex: 0 entries\n",
            "Data columns (total 9 columns):\n",
            " #   Column   Non-Null Count  Dtype         \n",
            "---  ------   --------------  -----         \n",
            " 0   Date     0 non-null      datetime64[ns]\n",
            " 1   Close    0 non-null      float64       \n",
            " 2   High     0 non-null      float64       \n",
            " 3   Low      0 non-null      float64       \n",
            " 4   Open     0 non-null      float64       \n",
            " 5   Volume   0 non-null      int64         \n",
            " 6   title    0 non-null      object        \n",
            " 7   content  0 non-null      object        \n",
            " 8   symbols  0 non-null      object        \n",
            "dtypes: datetime64[ns](1), float64(4), int64(1), object(3)\n",
            "memory usage: 132.0+ bytes\n"
          ]
        },
        {
          "output_type": "execute_result",
          "data": {
            "text/plain": [
              "Empty DataFrame\n",
              "Columns: [Date, Close, High, Low, Open, Volume, title, content, symbols]\n",
              "Index: []"
            ],
            "text/html": [
              "\n",
              "  <div id=\"df-a6b56127-adc7-4d60-830b-f0e11c82acfa\" class=\"colab-df-container\">\n",
              "    <div>\n",
              "<style scoped>\n",
              "    .dataframe tbody tr th:only-of-type {\n",
              "        vertical-align: middle;\n",
              "    }\n",
              "\n",
              "    .dataframe tbody tr th {\n",
              "        vertical-align: top;\n",
              "    }\n",
              "\n",
              "    .dataframe thead th {\n",
              "        text-align: right;\n",
              "    }\n",
              "</style>\n",
              "<table border=\"1\" class=\"dataframe\">\n",
              "  <thead>\n",
              "    <tr style=\"text-align: right;\">\n",
              "      <th></th>\n",
              "      <th>Date</th>\n",
              "      <th>Close</th>\n",
              "      <th>High</th>\n",
              "      <th>Low</th>\n",
              "      <th>Open</th>\n",
              "      <th>Volume</th>\n",
              "      <th>title</th>\n",
              "      <th>content</th>\n",
              "      <th>symbols</th>\n",
              "    </tr>\n",
              "  </thead>\n",
              "  <tbody>\n",
              "  </tbody>\n",
              "</table>\n",
              "</div>\n",
              "    <div class=\"colab-df-buttons\">\n",
              "\n",
              "  <div class=\"colab-df-container\">\n",
              "    <button class=\"colab-df-convert\" onclick=\"convertToInteractive('df-a6b56127-adc7-4d60-830b-f0e11c82acfa')\"\n",
              "            title=\"Convert this dataframe to an interactive table.\"\n",
              "            style=\"display:none;\">\n",
              "\n",
              "  <svg xmlns=\"http://www.w3.org/2000/svg\" height=\"24px\" viewBox=\"0 -960 960 960\">\n",
              "    <path d=\"M120-120v-720h720v720H120Zm60-500h600v-160H180v160Zm220 220h160v-160H400v160Zm0 220h160v-160H400v160ZM180-400h160v-160H180v160Zm440 0h160v-160H620v160ZM180-180h160v-160H180v160Zm440 0h160v-160H620v160Z\"/>\n",
              "  </svg>\n",
              "    </button>\n",
              "\n",
              "  <style>\n",
              "    .colab-df-container {\n",
              "      display:flex;\n",
              "      gap: 12px;\n",
              "    }\n",
              "\n",
              "    .colab-df-convert {\n",
              "      background-color: #E8F0FE;\n",
              "      border: none;\n",
              "      border-radius: 50%;\n",
              "      cursor: pointer;\n",
              "      display: none;\n",
              "      fill: #1967D2;\n",
              "      height: 32px;\n",
              "      padding: 0 0 0 0;\n",
              "      width: 32px;\n",
              "    }\n",
              "\n",
              "    .colab-df-convert:hover {\n",
              "      background-color: #E2EBFA;\n",
              "      box-shadow: 0px 1px 2px rgba(60, 64, 67, 0.3), 0px 1px 3px 1px rgba(60, 64, 67, 0.15);\n",
              "      fill: #174EA6;\n",
              "    }\n",
              "\n",
              "    .colab-df-buttons div {\n",
              "      margin-bottom: 4px;\n",
              "    }\n",
              "\n",
              "    [theme=dark] .colab-df-convert {\n",
              "      background-color: #3B4455;\n",
              "      fill: #D2E3FC;\n",
              "    }\n",
              "\n",
              "    [theme=dark] .colab-df-convert:hover {\n",
              "      background-color: #434B5C;\n",
              "      box-shadow: 0px 1px 3px 1px rgba(0, 0, 0, 0.15);\n",
              "      filter: drop-shadow(0px 1px 2px rgba(0, 0, 0, 0.3));\n",
              "      fill: #FFFFFF;\n",
              "    }\n",
              "  </style>\n",
              "\n",
              "    <script>\n",
              "      const buttonEl =\n",
              "        document.querySelector('#df-a6b56127-adc7-4d60-830b-f0e11c82acfa button.colab-df-convert');\n",
              "      buttonEl.style.display =\n",
              "        google.colab.kernel.accessAllowed ? 'block' : 'none';\n",
              "\n",
              "      async function convertToInteractive(key) {\n",
              "        const element = document.querySelector('#df-a6b56127-adc7-4d60-830b-f0e11c82acfa');\n",
              "        const dataTable =\n",
              "          await google.colab.kernel.invokeFunction('convertToInteractive',\n",
              "                                                    [key], {});\n",
              "        if (!dataTable) return;\n",
              "\n",
              "        const docLinkHtml = 'Like what you see? Visit the ' +\n",
              "          '<a target=\"_blank\" href=https://colab.research.google.com/notebooks/data_table.ipynb>data table notebook</a>'\n",
              "          + ' to learn more about interactive tables.';\n",
              "        element.innerHTML = '';\n",
              "        dataTable['output_type'] = 'display_data';\n",
              "        await google.colab.output.renderOutput(dataTable, element);\n",
              "        const docLink = document.createElement('div');\n",
              "        docLink.innerHTML = docLinkHtml;\n",
              "        element.appendChild(docLink);\n",
              "      }\n",
              "    </script>\n",
              "  </div>\n",
              "\n",
              "\n",
              "    </div>\n",
              "  </div>\n"
            ],
            "application/vnd.google.colaboratory.intrinsic+json": {
              "type": "dataframe",
              "variable_name": "merged_df",
              "repr_error": "Out of range float values are not JSON compliant: nan"
            }
          },
          "metadata": {},
          "execution_count": 34
        }
      ],
      "source": [
        "# Filter news_df for data from 2021 onwards\n",
        "news_df['date'] = pd.to_datetime(news_df['date'], format='%Y-%m-%d', errors='coerce')  # Ensure 'date' column is datetime\n",
        "news_df = news_df[news_df['date'] >= pd.to_datetime('2021-01-01')]  # Filter rows from 2021 onwards\n",
        "\n",
        "# Merge news_df and price_df on the 'date' column\n",
        "merged_df = pd.merge(price_df, news_df, left_on='Date', right_on='date', how='inner')\n",
        "\n",
        "# Drop the duplicate 'date' column (from news_df) and reorder columns\n",
        "merged_df = merged_df.drop(columns=['date'])\n",
        "merged_df = merged_df[['Date'] + [col for col in merged_df.columns if col != 'Date']]\n",
        "\n",
        "# Display the merged DataFrame\n",
        "print(\"Merged DataFrame:\")\n",
        "merged_df.info()\n",
        "merged_df.head()"
      ]
    },
    {
      "cell_type": "code",
      "execution_count": null,
      "id": "df1b7851",
      "metadata": {
        "colab": {
          "base_uri": "https://localhost:8080/",
          "height": 381
        },
        "id": "df1b7851",
        "outputId": "b303f5b4-d923-4801-8403-00a1c339ceaa"
      },
      "outputs": [
        {
          "output_type": "display_data",
          "data": {
            "text/plain": [
              "<Figure size 1200x600 with 1 Axes>"
            ],
            "image/png": "[encoded data removed]"
          },
          "metadata": {}
        }
      ],
      "source": [
        "import matplotlib.pyplot as plt\n",
        "\n",
        "# Plot stock prices over time\n",
        "plt.figure(figsize=(12, 6))\n",
        "plt.plot(price_df['Date'], price_df['Close'], label='Close Price', color='blue')\n",
        "plt.title('AAPL Stock Prices (2021-2024)')\n",
        "plt.xlabel('Date')\n",
        "plt.ylabel('Close Price')\n",
        "plt.legend()\n",
        "plt.grid(True)\n",
        "plt.show()"
      ]
    },
    {
      "cell_type": "code",
      "execution_count": null,
      "id": "8c728bbf",
      "metadata": {
        "colab": {
          "base_uri": "https://localhost:8080/",
          "height": 376
        },
        "id": "8c728bbf",
        "outputId": "48f24ab2-5e5e-4266-b8dd-78735469273c"
      },
      "outputs": [
        {
          "output_type": "display_data",
          "data": {
            "text/plain": [
              "<Figure size 1200x600 with 1 Axes>"
            ],
            "image/png": "[encoded data removed]"
          },
          "metadata": {}
        }
      ],
      "source": [
        "# Count the number of news articles per day\n",
        "daily_news_count = news_df.groupby('date').size()\n",
        "\n",
        "# Plot the number of news articles over time\n",
        "plt.figure(figsize=(12, 6))\n",
        "plt.plot(daily_news_count.index, daily_news_count.values, label='News Articles', color='green')\n",
        "plt.title('Number of News Articles Over Time (2021-2024)')\n",
        "plt.xlabel('Date')\n",
        "plt.ylabel('Number of Articles')\n",
        "plt.legend()\n",
        "plt.grid(True)\n",
        "plt.show()"
      ]
    },
    {
      "cell_type": "code",
      "execution_count": null,
      "id": "77d1087c",
      "metadata": {
        "colab": {
          "base_uri": "https://localhost:8080/"
        },
        "id": "77d1087c",
        "outputId": "94a059d8-92b7-4321-dbb9-7841ab4ff74d"
      },
      "outputs": [
        {
          "output_type": "stream",
          "name": "stdout",
          "text": [
            "Null values in merged_df before removal:\n",
            "Date       0\n",
            "Close      0\n",
            "High       0\n",
            "Low        0\n",
            "Open       0\n",
            "Volume     0\n",
            "title      0\n",
            "content    0\n",
            "symbols    0\n",
            "dtype: int64\n",
            "\n",
            "Null values in merged_df after removal:\n",
            "Date       0\n",
            "Close      0\n",
            "High       0\n",
            "Low        0\n",
            "Open       0\n",
            "Volume     0\n",
            "title      0\n",
            "content    0\n",
            "symbols    0\n",
            "dtype: int64\n"
          ]
        }
      ],
      "source": [
        "# Check for null values in merged_df\n",
        "print(\"Null values in merged_df before removal:\")\n",
        "print(merged_df.isnull().sum())\n",
        "\n",
        "# Remove rows with null values\n",
        "merged_df = merged_df.dropna()\n",
        "\n",
        "# Verify if null values are removed\n",
        "print(\"\\nNull values in merged_df after removal:\")\n",
        "print(merged_df.isnull().sum())"
      ]
    },
    {
      "cell_type": "code",
      "execution_count": null,
      "id": "7c6ea61b",
      "metadata": {
        "colab": {
          "base_uri": "https://localhost:8080/"
        },
        "id": "7c6ea61b",
        "outputId": "eeec9256-e3b7-4060-f052-04eb1516b286"
      },
      "outputs": [
        {
          "output_type": "execute_result",
          "data": {
            "text/plain": [
              "(0, 9)"
            ]
          },
          "metadata": {},
          "execution_count": 38
        }
      ],
      "source": [
        "merged_df.shape"
      ]
    },
    {
      "cell_type": "code",
      "execution_count": null,
      "id": "b4047538",
      "metadata": {
        "colab": {
          "base_uri": "https://localhost:8080/"
        },
        "id": "b4047538",
        "outputId": "0bd443b4-a94f-4129-df22-6c1cb51ad9f8"
      },
      "outputs": [
        {
          "output_type": "stream",
          "name": "stdout",
          "text": [
            "No duplicate rows found in merged_df.\n"
          ]
        }
      ],
      "source": [
        "# Check for duplicate rows in the merged DataFrame\n",
        "duplicate_rows = merged_df[merged_df.duplicated()]\n",
        "\n",
        "# Display the duplicate rows, if any\n",
        "if not duplicate_rows.empty:\n",
        "    print(\"Duplicate rows found in merged_df:\")\n",
        "    print(duplicate_rows)\n",
        "else:\n",
        "    print(\"No duplicate rows found in merged_df.\")"
      ]
    },
    {
      "cell_type": "code",
      "execution_count": null,
      "id": "58bf2b62",
      "metadata": {
        "colab": {
          "base_uri": "https://localhost:8080/"
        },
        "id": "58bf2b62",
        "outputId": "c9a22161-3708-4def-a5d2-23ddd8e5c37f"
      },
      "outputs": [
        {
          "output_type": "execute_result",
          "data": {
            "text/plain": [
              "(1004, 6)"
            ]
          },
          "metadata": {},
          "execution_count": 40
        }
      ],
      "source": [
        "price_df.shape"
      ]
    },
    {
      "cell_type": "code",
      "execution_count": null,
      "id": "cd2d4d75",
      "metadata": {
        "colab": {
          "base_uri": "https://localhost:8080/"
        },
        "id": "cd2d4d75",
        "outputId": "a30e0cc5-b42e-4177-d3fc-1c8c82024eb6"
      },
      "outputs": [
        {
          "output_type": "stream",
          "name": "stdout",
          "text": [
            "Top dates with the most news articles:\n",
            "Series([], Name: count, dtype: int64)\n"
          ]
        }
      ],
      "source": [
        "# Count the number of news articles per date in news_df\n",
        "news_count_per_date = news_df['date'].value_counts()\n",
        "\n",
        "# Display the top dates with the most news articles\n",
        "print(\"Top dates with the most news articles:\")\n",
        "print(news_count_per_date.head())"
      ]
    },
    {
      "cell_type": "code",
      "execution_count": null,
      "id": "3d8dc76a",
      "metadata": {
        "id": "3d8dc76a"
      },
      "outputs": [],
      "source": []
    },
    {
      "cell_type": "code",
      "execution_count": null,
      "id": "8164b615",
      "metadata": {
        "colab": {
          "base_uri": "https://localhost:8080/"
        },
        "id": "8164b615",
        "outputId": "71815900-87d6-4ad4-bc4a-b1a2e6dac706"
      },
      "outputs": [
        {
          "output_type": "stream",
          "name": "stdout",
          "text": [
            "Merged DataFrame has been saved to 'merged_data.csv'.\n"
          ]
        }
      ],
      "source": [
        "merged_df.to_csv(\"merged_data.csv\", index=False)\n",
        "print(\"Merged DataFrame has been saved to 'merged_data.csv'.\")"
      ]
    },
    {
      "cell_type": "code",
      "execution_count": null,
      "id": "ee6eb8b3",
      "metadata": {
        "id": "ee6eb8b3"
      },
      "outputs": [],
      "source": [
        "merged_df = pd.read_csv(\"merged_with_sentiment.csv\", encoding='ISO-8859-1')"
      ]
    },
    {
      "cell_type": "markdown",
      "id": "8a663811",
      "metadata": {
        "id": "8a663811"
      },
      "source": [
        "Analyze Sentiment Distribution"
      ]
    },
    {
      "cell_type": "code",
      "execution_count": null,
      "id": "b6f4f659",
      "metadata": {
        "colab": {
          "base_uri": "https://localhost:8080/",
          "height": 584
        },
        "id": "b6f4f659",
        "outputId": "fd1d88e1-bbb1-4c67-db19-2800fae0c7e1"
      },
      "outputs": [
        {
          "output_type": "display_data",
          "data": {
            "text/plain": [
              "<Figure size 800x600 with 1 Axes>"
            ],
            "image/png": "[encoded data removed]"
          },
          "metadata": {}
        }
      ],
      "source": [
        "import matplotlib.pyplot as plt\n",
        "\n",
        "# Count the number of each sentiment\n",
        "sentiment_counts = merged_df['sentiment'].value_counts()\n",
        "\n",
        "# Plot the sentiment distribution\n",
        "plt.figure(figsize=(8, 6))\n",
        "sentiment_counts.plot(kind='bar', color=['blue', 'green'])\n",
        "plt.title('Sentiment Distribution')\n",
        "plt.xlabel('Sentiment')\n",
        "plt.ylabel('Count')\n",
        "plt.xticks(rotation=0)\n",
        "plt.grid(axis='y')\n",
        "plt.show()"
      ]
    },
    {
      "cell_type": "code",
      "execution_count": null,
      "id": "af159025",
      "metadata": {
        "colab": {
          "base_uri": "https://localhost:8080/",
          "height": 546
        },
        "id": "af159025",
        "outputId": "c96c7f0b-0776-4303-9fea-9589a6441527"
      },
      "outputs": [
        {
          "output_type": "error",
          "ename": "ImportError",
          "evalue": "cannot import name 'NaN' from 'numpy' (/usr/local/lib/python3.11/dist-packages/numpy/__init__.py)",
          "traceback": [
            "\u001b[0;31m---------------------------------------------------------------------------\u001b[0m",
            "\u001b[0;31mImportError\u001b[0m                               Traceback (most recent call last)",
            "\u001b[0;32m<ipython-input-49-ff382917b263>\u001b[0m in \u001b[0;36m<cell line: 0>\u001b[0;34m()\u001b[0m\n\u001b[0;32m----> 1\u001b[0;31m \u001b[0;32mimport\u001b[0m \u001b[0mpandas_ta\u001b[0m \u001b[0;32mas\u001b[0m \u001b[0mta\u001b[0m\u001b[0;34m\u001b[0m\u001b[0;34m\u001b[0m\u001b[0m\n\u001b[0m\u001b[1;32m      2\u001b[0m \u001b[0;34m\u001b[0m\u001b[0m\n\u001b[1;32m      3\u001b[0m \u001b[0;31m# Moving Averages\u001b[0m\u001b[0;34m\u001b[0m\u001b[0;34m\u001b[0m\u001b[0m\n\u001b[1;32m      4\u001b[0m \u001b[0mprice_df\u001b[0m\u001b[0;34m[\u001b[0m\u001b[0;34m'MA10'\u001b[0m\u001b[0;34m]\u001b[0m \u001b[0;34m=\u001b[0m \u001b[0mprice_df\u001b[0m\u001b[0;34m[\u001b[0m\u001b[0;34m'Close'\u001b[0m\u001b[0;34m]\u001b[0m\u001b[0;34m.\u001b[0m\u001b[0mrolling\u001b[0m\u001b[0;34m(\u001b[0m\u001b[0mwindow\u001b[0m\u001b[0;34m=\u001b[0m\u001b[0;36m10\u001b[0m\u001b[0;34m)\u001b[0m\u001b[0;34m.\u001b[0m\u001b[0mmean\u001b[0m\u001b[0;34m(\u001b[0m\u001b[0;34m)\u001b[0m\u001b[0;34m\u001b[0m\u001b[0;34m\u001b[0m\u001b[0m\n\u001b[1;32m      5\u001b[0m \u001b[0mprice_df\u001b[0m\u001b[0;34m[\u001b[0m\u001b[0;34m'MA20'\u001b[0m\u001b[0;34m]\u001b[0m \u001b[0;34m=\u001b[0m \u001b[0mprice_df\u001b[0m\u001b[0;34m[\u001b[0m\u001b[0;34m'Close'\u001b[0m\u001b[0;34m]\u001b[0m\u001b[0;34m.\u001b[0m\u001b[0mrolling\u001b[0m\u001b[0;34m(\u001b[0m\u001b[0mwindow\u001b[0m\u001b[0;34m=\u001b[0m\u001b[0;36m20\u001b[0m\u001b[0;34m)\u001b[0m\u001b[0;34m.\u001b[0m\u001b[0mmean\u001b[0m\u001b[0;34m(\u001b[0m\u001b[0;34m)\u001b[0m\u001b[0;34m\u001b[0m\u001b[0;34m\u001b[0m\u001b[0m\n",
            "\u001b[0;32m/usr/local/lib/python3.11/dist-packages/pandas_ta/__init__.py\u001b[0m in \u001b[0;36m<module>\u001b[0;34m\u001b[0m\n\u001b[1;32m    114\u001b[0m }\n\u001b[1;32m    115\u001b[0m \u001b[0;34m\u001b[0m\u001b[0m\n\u001b[0;32m--> 116\u001b[0;31m \u001b[0;32mfrom\u001b[0m \u001b[0mpandas_ta\u001b[0m\u001b[0;34m.\u001b[0m\u001b[0mcore\u001b[0m \u001b[0;32mimport\u001b[0m \u001b[0;34m*\u001b[0m\u001b[0;34m\u001b[0m\u001b[0;34m\u001b[0m\u001b[0m\n\u001b[0m",
            "\u001b[0;32m/usr/local/lib/python3.11/dist-packages/pandas_ta/core.py\u001b[0m in \u001b[0;36m<module>\u001b[0;34m\u001b[0m\n\u001b[1;32m     16\u001b[0m \u001b[0;32mfrom\u001b[0m \u001b[0mpandas_ta\u001b[0m\u001b[0;34m.\u001b[0m\u001b[0mcandles\u001b[0m \u001b[0;32mimport\u001b[0m \u001b[0;34m*\u001b[0m\u001b[0;34m\u001b[0m\u001b[0;34m\u001b[0m\u001b[0m\n\u001b[1;32m     17\u001b[0m \u001b[0;32mfrom\u001b[0m \u001b[0mpandas_ta\u001b[0m\u001b[0;34m.\u001b[0m\u001b[0mcycles\u001b[0m \u001b[0;32mimport\u001b[0m \u001b[0;34m*\u001b[0m\u001b[0;34m\u001b[0m\u001b[0;34m\u001b[0m\u001b[0m\n\u001b[0;32m---> 18\u001b[0;31m \u001b[0;32mfrom\u001b[0m \u001b[0mpandas_ta\u001b[0m\u001b[0;34m.\u001b[0m\u001b[0mmomentum\u001b[0m \u001b[0;32mimport\u001b[0m \u001b[0;34m*\u001b[0m\u001b[0;34m\u001b[0m\u001b[0;34m\u001b[0m\u001b[0m\n\u001b[0m\u001b[1;32m     19\u001b[0m \u001b[0;32mfrom\u001b[0m \u001b[0mpandas_ta\u001b[0m\u001b[0;34m.\u001b[0m\u001b[0moverlap\u001b[0m \u001b[0;32mimport\u001b[0m \u001b[0;34m*\u001b[0m\u001b[0;34m\u001b[0m\u001b[0;34m\u001b[0m\u001b[0m\n\u001b[1;32m     20\u001b[0m \u001b[0;32mfrom\u001b[0m \u001b[0mpandas_ta\u001b[0m\u001b[0;34m.\u001b[0m\u001b[0mperformance\u001b[0m \u001b[0;32mimport\u001b[0m \u001b[0;34m*\u001b[0m\u001b[0;34m\u001b[0m\u001b[0;34m\u001b[0m\u001b[0m\n",
            "\u001b[0;32m/usr/local/lib/python3.11/dist-packages/pandas_ta/momentum/__init__.py\u001b[0m in \u001b[0;36m<module>\u001b[0;34m\u001b[0m\n\u001b[1;32m     32\u001b[0m \u001b[0;32mfrom\u001b[0m \u001b[0;34m.\u001b[0m\u001b[0msmi\u001b[0m \u001b[0;32mimport\u001b[0m \u001b[0msmi\u001b[0m\u001b[0;34m\u001b[0m\u001b[0;34m\u001b[0m\u001b[0m\n\u001b[1;32m     33\u001b[0m \u001b[0;32mfrom\u001b[0m \u001b[0;34m.\u001b[0m\u001b[0msqueeze\u001b[0m \u001b[0;32mimport\u001b[0m \u001b[0msqueeze\u001b[0m\u001b[0;34m\u001b[0m\u001b[0;34m\u001b[0m\u001b[0m\n\u001b[0;32m---> 34\u001b[0;31m \u001b[0;32mfrom\u001b[0m \u001b[0;34m.\u001b[0m\u001b[0msqueeze_pro\u001b[0m \u001b[0;32mimport\u001b[0m \u001b[0msqueeze_pro\u001b[0m\u001b[0;34m\u001b[0m\u001b[0;34m\u001b[0m\u001b[0m\n\u001b[0m\u001b[1;32m     35\u001b[0m \u001b[0;32mfrom\u001b[0m \u001b[0;34m.\u001b[0m\u001b[0mstc\u001b[0m \u001b[0;32mimport\u001b[0m \u001b[0mstc\u001b[0m\u001b[0;34m\u001b[0m\u001b[0;34m\u001b[0m\u001b[0m\n\u001b[1;32m     36\u001b[0m \u001b[0;32mfrom\u001b[0m \u001b[0;34m.\u001b[0m\u001b[0mstoch\u001b[0m \u001b[0;32mimport\u001b[0m \u001b[0mstoch\u001b[0m\u001b[0;34m\u001b[0m\u001b[0;34m\u001b[0m\u001b[0m\n",
            "\u001b[0;32m/usr/local/lib/python3.11/dist-packages/pandas_ta/momentum/squeeze_pro.py\u001b[0m in \u001b[0;36m<module>\u001b[0;34m\u001b[0m\n\u001b[1;32m      1\u001b[0m \u001b[0;31m# -*- coding: utf-8 -*-\u001b[0m\u001b[0;34m\u001b[0m\u001b[0;34m\u001b[0m\u001b[0m\n\u001b[0;32m----> 2\u001b[0;31m \u001b[0;32mfrom\u001b[0m \u001b[0mnumpy\u001b[0m \u001b[0;32mimport\u001b[0m \u001b[0mNaN\u001b[0m \u001b[0;32mas\u001b[0m \u001b[0mnpNaN\u001b[0m\u001b[0;34m\u001b[0m\u001b[0;34m\u001b[0m\u001b[0m\n\u001b[0m\u001b[1;32m      3\u001b[0m \u001b[0;32mfrom\u001b[0m \u001b[0mpandas\u001b[0m \u001b[0;32mimport\u001b[0m \u001b[0mDataFrame\u001b[0m\u001b[0;34m\u001b[0m\u001b[0;34m\u001b[0m\u001b[0m\n\u001b[1;32m      4\u001b[0m \u001b[0;32mfrom\u001b[0m \u001b[0mpandas_ta\u001b[0m\u001b[0;34m.\u001b[0m\u001b[0mmomentum\u001b[0m \u001b[0;32mimport\u001b[0m \u001b[0mmom\u001b[0m\u001b[0;34m\u001b[0m\u001b[0;34m\u001b[0m\u001b[0m\n\u001b[1;32m      5\u001b[0m \u001b[0;32mfrom\u001b[0m \u001b[0mpandas_ta\u001b[0m\u001b[0;34m.\u001b[0m\u001b[0moverlap\u001b[0m \u001b[0;32mimport\u001b[0m \u001b[0mema\u001b[0m\u001b[0;34m,\u001b[0m \u001b[0msma\u001b[0m\u001b[0;34m\u001b[0m\u001b[0;34m\u001b[0m\u001b[0m\n",
            "\u001b[0;31mImportError\u001b[0m: cannot import name 'NaN' from 'numpy' (/usr/local/lib/python3.11/dist-packages/numpy/__init__.py)",
            "",
            "\u001b[0;31m---------------------------------------------------------------------------\u001b[0;32m\nNOTE: If your import is failing due to a missing package, you can\nmanually install dependencies using either !pip or !apt.\n\nTo view examples of installing some common dependencies, click the\n\"Open Examples\" button below.\n\u001b[0;31m---------------------------------------------------------------------------\u001b[0m\n"
          ],
          "errorDetails": {
            "actions": [
              {
                "action": "open_url",
                "actionText": "Open Examples",
                "url": "/notebooks/snippets/importing_libraries.ipynb"
              }
            ]
          }
        }
      ],
      "source": [
        "import pandas_ta as ta\n",
        "\n",
        "# Moving Averages\n",
        "price_df['MA10'] = price_df['Close'].rolling(window=10).mean()\n",
        "price_df['MA20'] = price_df['Close'].rolling(window=20).mean()\n",
        "price_df['MA50'] = price_df['Close'].rolling(window=50).mean()\n",
        "price_df['MA200'] = price_df['Close'].rolling(window=200).mean()\n",
        "\n",
        "# Exponential Moving Averages\n",
        "price_df['EMA10'] = price_df['Close'].ewm(span=10, adjust=False).mean()\n",
        "price_df['EMA20'] = price_df['Close'].ewm(span=20, adjust=False).mean()\n",
        "\n",
        "# RSI\n",
        "price_df['RSI'] = ta.rsi(price_df['Close'], length=14)\n",
        "\n",
        "# Bollinger Bands\n",
        "bb = ta.bbands(price_df['Close'], length=20, std=2)\n",
        "price_df['Bollinger_Upper'] = bb['BBU_20_2.0']\n",
        "price_df['Bollinger_Lower'] = bb['BBL_20_2.0']\n",
        "\n",
        "# MACD\n",
        "macd = ta.macd(price_df['Close'], fast=12, slow=26, signal=9)\n",
        "price_df['MACD'] = macd['MACD_12_26_9']\n",
        "price_df['MACD_Signal'] = macd['MACDs_12_26_9']\n",
        "\n",
        "# Volatility\n",
        "price_df['Volatility'] = price_df['Close'].rolling(window=20).std()\n",
        "\n",
        "# Rate of Change (ROC)\n",
        "price_df['ROC'] = ta.roc(price_df['Close'], length=10)\n",
        "\n",
        "# On-Balance Volume (OBV)\n",
        "price_df['OBV'] = ta.obv(price_df['Close'], price_df['Volume'])\n",
        "\n",
        "# Average True Range (ATR)\n",
        "price_df['ATR'] = ta.atr(price_df['High'], price_df['Low'], price_df['Close'], length=14)\n",
        "\n",
        "# Momentum\n",
        "price_df['Momentum'] = ta.mom(price_df['Close'], length=10)\n",
        "\n",
        "# Williams %R\n",
        "price_df['Williams_%R'] = ta.willr(price_df['High'], price_df['Low'], price_df['Close'], length=14)"
      ]
    },
    {
      "cell_type": "markdown",
      "id": "4de642bd",
      "metadata": {
        "id": "4de642bd"
      },
      "source": [
        "**2. Add Lagged Features**\n",
        "\n",
        "Lagged features help capture the historical behavior of stock prices."
      ]
    },
    {
      "cell_type": "code",
      "execution_count": null,
      "id": "c029fd59",
      "metadata": {
        "id": "c029fd59"
      },
      "outputs": [],
      "source": [
        "# Lagged Close Prices for AAPL\n",
        "for lag in range(1, 6):\n",
        "    price_df[f'Close_Lag{lag}'] = price_df['Close'].shift(lag)"
      ]
    },
    {
      "cell_type": "code",
      "execution_count": null,
      "id": "86f14360",
      "metadata": {
        "id": "86f14360"
      },
      "outputs": [],
      "source": [
        "price_df = price_df.dropna()  # Drop rows with NaN values after shifting"
      ]
    },
    {
      "cell_type": "code",
      "execution_count": null,
      "id": "97af3033",
      "metadata": {
        "id": "97af3033"
      },
      "outputs": [],
      "source": [
        "# Ensure both 'Date' columns are of the same type\n",
        "price_df['Date'] = pd.to_datetime(price_df['Date'], errors='coerce')\n",
        "merged_df['Date'] = pd.to_datetime(merged_df['Date'], errors='coerce')\n",
        "\n",
        "# Merge the DataFrames\n",
        "final_df = pd.merge(price_df, merged_df[['Date', 'sentiment']], on='Date', how='left')"
      ]
    },
    {
      "cell_type": "code",
      "execution_count": null,
      "id": "da8985e2",
      "metadata": {
        "id": "da8985e2"
      },
      "outputs": [],
      "source": [
        "final_df = final_df.dropna()  # Drop rows with NaN values after merging\n",
        "final_df.info()"
      ]
    },
    {
      "cell_type": "code",
      "execution_count": null,
      "id": "ac0cabd8",
      "metadata": {
        "id": "ac0cabd8"
      },
      "outputs": [],
      "source": [
        "final_df.head(1000)"
      ]
    },
    {
      "cell_type": "code",
      "execution_count": null,
      "id": "797061d5",
      "metadata": {
        "id": "797061d5"
      },
      "outputs": [],
      "source": [
        "final_df.to_csv(\"final_dataset.csv\", index=False)\n",
        "print(\"Final dataset saved to 'final_dataset.csv'.\")"
      ]
    },
    {
      "cell_type": "code",
      "execution_count": null,
      "id": "fd530152",
      "metadata": {
        "id": "fd530152"
      },
      "outputs": [],
      "source": [
        "import seaborn as sns\n",
        "import matplotlib.pyplot as plt\n",
        "\n",
        "# Compute correlation matrix\n",
        "correlation_matrix = final_df.corr()\n",
        "\n",
        "# Plot heatmap\n",
        "plt.figure(figsize=(16, 12))\n",
        "sns.heatmap(correlation_matrix, annot=True, cmap='coolwarm', fmt='.2f')\n",
        "plt.title('Correlation Heatmap')\n",
        "plt.show()"
      ]
    },
    {
      "cell_type": "markdown",
      "id": "be0f5a30",
      "metadata": {
        "id": "be0f5a30"
      },
      "source": [
        "# Key Inferences from the Correlation Heatmap\n",
        "\n",
        "**High Autocorrelation in Price Features**\n",
        "\n",
        "Features like Close, High, Low, and Open are highly correlated (correlation ≈ 1.0).\n",
        "Action: Retain only Close as the primary price feature and remove High, Low, and Open to avoid redundancy.\n",
        "\n",
        "**Strong Correlation with Lagged Prices**\n",
        "\n",
        "Lagged features (Close_Lag1 to Close_Lag5) show strong correlations (≈ 0.99) with Close.\n",
        "**Action**: Use lagged prices as input for sequence-based models like LSTM or Transformer.\n",
        "\n",
        "**Technical Indicators Add Value**\n",
        "\n",
        "Indicators like RSI, MACD, OBV, and ATR show moderate correlations (0.6–0.8) with Close.\n",
        "**Action**: Retain these features to capture momentum, volatility, and volume trends.\n",
        "\n",
        "**Weak Correlation of Sentiment**\n",
        "\n",
        "The sentiment feature has a weak correlation (< 0.05) with price-related features.\n",
        "**Action**: Validate the quality of sentiment extraction or explore alternative NLP techniques to improve its predictive power.\n",
        "\n",
        "**Volume Has Moderate Negative Correlation**\n",
        "\n",
        "Volume shows a moderate negative correlation (-0.3) with Close.\n",
        "**Action**: Investigate if high trading volumes are predictive of price drops (bearish signals).\n",
        "\n",
        "**Bollinger Bands Track Price Closely**\n",
        "\n",
        "Features like Bollinger_Upper and Bollinger_Lower are strongly correlated (≈ 0.95) with Close.\n",
        "**Action**: Use Bollinger Bands to detect overbought/oversold conditions."
      ]
    },
    {
      "cell_type": "markdown",
      "id": "3367eddb",
      "metadata": {
        "id": "3367eddb"
      },
      "source": [
        "Aggregate Daily Sentiment"
      ]
    },
    {
      "cell_type": "code",
      "execution_count": null,
      "id": "8739786d",
      "metadata": {
        "id": "8739786d"
      },
      "outputs": [],
      "source": [
        "# Group sentiment by date and compute the mean\n",
        "final_df['Date'] = pd.to_datetime(final_df['Date'])  # Ensure 'Date' column is in datetime format\n",
        "daily_sentiment = final_df.groupby('Date')['sentiment'].mean().reset_index()\n",
        "\n",
        "# Rename columns for clarity\n",
        "daily_sentiment.rename(columns={'sentiment': 'avg_sentiment'}, inplace=True)\n",
        "\n",
        "print(\"Daily Sentiment Aggregation:\\n\", daily_sentiment.head())"
      ]
    },
    {
      "cell_type": "markdown",
      "id": "20950d68",
      "metadata": {
        "id": "20950d68"
      },
      "source": [
        "Merge Sentiment with Stock Price Data"
      ]
    },
    {
      "cell_type": "code",
      "execution_count": null,
      "id": "afd036c4",
      "metadata": {
        "id": "afd036c4"
      },
      "outputs": [],
      "source": [
        "# Merge sentiment with stock price data\n",
        "final_df = pd.merge(price_df, daily_sentiment, on='Date', how='left')\n",
        "\n",
        "# Handle missing sentiment values (if any)\n",
        "final_df['avg_sentiment'] = final_df['avg_sentiment'].fillna(0)  # Replace NaN with 0\n",
        "\n",
        "print(\"Final DataFrame with Sentiment:\\n\")\n",
        "final_df.head(900)"
      ]
    },
    {
      "cell_type": "markdown",
      "id": "c04dbe76",
      "metadata": {
        "id": "c04dbe76"
      },
      "source": [
        "Verify Alignment"
      ]
    },
    {
      "cell_type": "code",
      "execution_count": null,
      "id": "c77556ca",
      "metadata": {
        "id": "c77556ca"
      },
      "outputs": [],
      "source": [
        "# Check alignment of sentiment and stock price data\n",
        "print(\"Sentiment Alignment Check:\")\n",
        "print(final_df[['Date', 'Close', 'avg_sentiment']].head(10))"
      ]
    },
    {
      "cell_type": "markdown",
      "id": "13106ce6",
      "metadata": {
        "id": "13106ce6"
      },
      "source": [
        "Handle Missing Values"
      ]
    },
    {
      "cell_type": "code",
      "execution_count": null,
      "id": "7a1faf02",
      "metadata": {
        "id": "7a1faf02"
      },
      "outputs": [],
      "source": [
        "# Verify missing values\n",
        "missing_values = final_df.isnull().sum()\n",
        "print(\"Missing Values:\\n\", missing_values)\n",
        "\n",
        "# Fill missing values (if any) with appropriate methods\n",
        "final_df.fillna(method='ffill', inplace=True)  # Forward fill for time-series data\n",
        "final_df.fillna(method='bfill', inplace=True)  # Backward fill for remaining gaps\n",
        "\n",
        "# Verify no missing values remain\n",
        "assert final_df.isnull().sum().sum() == 0, \"Missing values still exist!\""
      ]
    },
    {
      "cell_type": "markdown",
      "id": "929cd5b8",
      "metadata": {
        "id": "929cd5b8"
      },
      "source": [
        "Normalize Features"
      ]
    },
    {
      "cell_type": "code",
      "execution_count": null,
      "id": "78b9a6f8",
      "metadata": {
        "id": "78b9a6f8"
      },
      "outputs": [],
      "source": [
        "from sklearn.preprocessing import MinMaxScaler\n",
        "\n",
        "# Select numerical columns for normalization\n",
        "numerical_cols = ['Close', 'High', 'Low', 'Open', 'Volume', 'MA10', 'MA20', 'MA50', 'MA200',\n",
        "                  'EMA10', 'EMA20', 'RSI', 'Bollinger_Upper', 'Bollinger_Lower', 'MACD',\n",
        "                  'MACD_Signal', 'Volatility', 'ROC', 'OBV', 'ATR', 'Momentum', 'Williams_%R',\n",
        "                  'Close_Lag1', 'Close_Lag2', 'Close_Lag3', 'Close_Lag4', 'Close_Lag5', 'avg_sentiment']\n",
        "\n",
        "# Initialize scaler\n",
        "scaler = MinMaxScaler()\n",
        "\n",
        "# Normalize numerical columns\n",
        "final_df[numerical_cols] = scaler.fit_transform(final_df[numerical_cols])\n",
        "\n",
        "# Verify normalization\n",
        "print(\"Normalized Features:\\n\")\n",
        "final_df[numerical_cols].head()"
      ]
    },
    {
      "cell_type": "markdown",
      "id": "c1214d99",
      "metadata": {
        "id": "c1214d99"
      },
      "source": [
        "Dimensionality Reduction Using (2D)²PCA"
      ]
    },
    {
      "cell_type": "code",
      "execution_count": null,
      "id": "faf06229",
      "metadata": {
        "id": "faf06229"
      },
      "outputs": [],
      "source": [
        "from sklearn.decomposition import PCA\n",
        "\n",
        "# Apply PCA (as a proxy for (2D)²PCA)\n",
        "pca = PCA(n_components=10)  # Reduce to 10 principal components\n",
        "X_pca = pca.fit_transform(final_df[numerical_cols])\n",
        "\n",
        "# Create a DataFrame with PCA-transformed features\n",
        "pca_columns = [f\"PC{i+1}\" for i in range(10)]\n",
        "final_df_pca = pd.DataFrame(X_pca, columns=pca_columns)\n",
        "\n",
        "# Add non-numerical columns back to the dataset\n",
        "final_df_pca['Date'] = final_df['Date']\n",
        "\n",
        "# Verify PCA-transformed data\n",
        "print(\"PCA Transformed Data:\\n\")\n",
        "final_df_pca.head()"
      ]
    },
    {
      "cell_type": "markdown",
      "id": "d0b9adba",
      "metadata": {
        "id": "d0b9adba"
      },
      "source": [
        "Split Data into Training and Testing Sets"
      ]
    },
    {
      "cell_type": "code",
      "execution_count": null,
      "id": "0089689a",
      "metadata": {
        "id": "0089689a"
      },
      "outputs": [],
      "source": [
        "from sklearn.model_selection import train_test_split\n",
        "\n",
        "# Define features (X) and target (y)\n",
        "X = final_df_pca.drop(columns=['Date'])  # Exclude non-numeric columns\n",
        "y = final_df['Close'].values[1:]  # Predict next day's closing price\n",
        "\n",
        "# Align X with lagged y\n",
        "X = X[:-1]  # Remove last row to match y\n",
        "\n",
        "# Split into training and testing sets (80%-20% split)\n",
        "split_ratio = 0.8\n",
        "split_index = int(len(X) * split_ratio)\n",
        "\n",
        "X_train, X_test = X[:split_index], X[split_index:]\n",
        "y_train, y_test = y[:split_index], y[split_index:]\n",
        "\n",
        "print(\"Training Set Shapes:\", X_train.shape, y_train.shape)\n",
        "print(\"Testing Set Shapes:\", X_test.shape, y_test.shape)"
      ]
    },
    {
      "cell_type": "markdown",
      "id": "8da7bf90",
      "metadata": {
        "id": "8da7bf90"
      },
      "source": [
        "Create Sequences for Time-Series Models"
      ]
    },
    {
      "cell_type": "code",
      "execution_count": null,
      "id": "9a262125",
      "metadata": {
        "id": "9a262125"
      },
      "outputs": [],
      "source": [
        "def create_sequences(X, y, window_size):\n",
        "    \"\"\"\n",
        "    Create input sequences for time-series models.\n",
        "    \"\"\"\n",
        "    X_seq, y_seq = [], []\n",
        "    for i in range(len(X) - window_size):\n",
        "        X_seq.append(X[i:i + window_size])\n",
        "        y_seq.append(y[i + window_size])\n",
        "    return np.array(X_seq), np.array(y_seq)\n",
        "\n",
        "# Set window size (e.g., 20 days as per the research paper)\n",
        "window_size = 20\n",
        "\n",
        "# Create sequences\n",
        "X_train_lstm, y_train_lstm = create_sequences(X_train.values, y_train, window_size)\n",
        "X_test_lstm, y_test_lstm = create_sequences(X_test.values, y_test, window_size)\n",
        "\n",
        "print(\"Training Sequence Shapes:\", X_train_lstm.shape, y_train_lstm.shape)\n",
        "print(\"Testing Sequence Shapes:\", X_test_lstm.shape, y_test_lstm.shape)"
      ]
    },
    {
      "cell_type": "markdown",
      "id": "46c01713",
      "metadata": {
        "id": "46c01713"
      },
      "source": [
        "Save Preprocessed Data"
      ]
    },
    {
      "cell_type": "code",
      "execution_count": null,
      "id": "69fef5d9",
      "metadata": {
        "id": "69fef5d9"
      },
      "outputs": [],
      "source": [
        "import joblib\n",
        "\n",
        "# Save datasets\n",
        "joblib.dump(X_train_lstm, 'X_train_lstm.pkl')\n",
        "joblib.dump(y_train_lstm, 'y_train_lstm.pkl')\n",
        "joblib.dump(X_test_lstm, 'X_test_lstm.pkl')\n",
        "joblib.dump(y_test_lstm, 'y_test_lstm.pkl')\n",
        "\n",
        "print(\"Preprocessed data saved successfully!\")"
      ]
    },
    {
      "cell_type": "markdown",
      "id": "c12709d6",
      "metadata": {
        "id": "c12709d6"
      },
      "source": [
        "# Model Training"
      ]
    },
    {
      "cell_type": "markdown",
      "id": "8f7277ee",
      "metadata": {
        "id": "8f7277ee"
      },
      "source": [
        "CNN Model with Optuna + ADADELTA"
      ]
    },
    {
      "cell_type": "code",
      "execution_count": null,
      "id": "b7aa85e9",
      "metadata": {
        "id": "b7aa85e9"
      },
      "outputs": [],
      "source": [
        "import optuna\n",
        "import numpy as np\n",
        "from tensorflow.keras.models import Sequential\n",
        "from tensorflow.keras.layers import Conv1D, MaxPooling1D, Flatten, Dense\n",
        "from tensorflow.keras.optimizers import Adadelta\n",
        "\n",
        "# Objective function for Optuna\n",
        "def cnn_objective(trial):\n",
        "    # Hyperparameters to tune\n",
        "    filters = trial.suggest_int(\"filters\", 32, 256)\n",
        "    kernel_size = trial.suggest_int(\"kernel_size\", 2, 5)\n",
        "    rho = trial.suggest_float(\"rho\", 0.85, 0.99)\n",
        "    epsilon = trial.suggest_loguniform(\"epsilon\", 1e-8, 1e-5)\n",
        "\n",
        "    # Build CNN model\n",
        "    model = Sequential()\n",
        "    model.add(Conv1D(filters=filters, kernel_size=kernel_size, activation='relu', padding='same', input_shape=(X_train_lstm.shape[1], X_train_lstm.shape[2])))\n",
        "    model.add(MaxPooling1D(pool_size=2))\n",
        "    model.add(Flatten())\n",
        "    model.add(Dense(50, activation='relu'))\n",
        "    model.add(Dense(1))\n",
        "\n",
        "    # Compile with ADADELTA\n",
        "    optimizer = Adadelta(rho=rho, epsilon=epsilon)\n",
        "    model.compile(optimizer=optimizer, loss='mse', metrics=['mae'])\n",
        "\n",
        "    # Train and evaluate\n",
        "    history = model.fit(\n",
        "        X_train_lstm, y_train_lstm,\n",
        "        epochs=25,\n",
        "        batch_size=32,\n",
        "        validation_split=0.2,\n",
        "        verbose=0\n",
        "    )\n",
        "    return history.history['val_mae'][-1]\n",
        "\n",
        "# Run Optuna study for CNN\n",
        "study_cnn = optuna.create_study(direction='minimize')\n",
        "study_cnn.optimize(cnn_objective, n_trials=50)\n",
        "print(\"Best CNN Params:\", study_cnn.best_params)\n",
        "\n",
        "# Train final CNN model with best hyperparameters\n",
        "best_cnn = Sequential([\n",
        "    Conv1D(filters=study_cnn.best_params['filters'], kernel_size=study_cnn.best_params['kernel_size'], activation='relu', padding='same', input_shape=(X_train_lstm.shape[1], X_train_lstm.shape[2])),\n",
        "    MaxPooling1D(pool_size=2),\n",
        "    Flatten(),\n",
        "    Dense(50, activation='relu'),\n",
        "    Dense(1)\n",
        "])\n",
        "best_cnn.compile(optimizer=Adadelta(rho=study_cnn.best_params['rho'], epsilon=study_cnn.best_params['epsilon']), loss='mse', metrics=['mae'])\n",
        "best_cnn.fit(X_train_lstm, y_train_lstm, epochs=50, batch_size=32, validation_split=0.2)"
      ]
    },
    {
      "cell_type": "markdown",
      "id": "5e53ada0",
      "metadata": {
        "id": "5e53ada0"
      },
      "source": [
        "LSTM Model with Optuna + ADADELTA"
      ]
    },
    {
      "cell_type": "code",
      "execution_count": null,
      "id": "d1fff519",
      "metadata": {
        "id": "d1fff519"
      },
      "outputs": [],
      "source": [
        "from tensorflow.keras.layers import LSTM, Dropout\n",
        "\n",
        "# Objective function for Optuna\n",
        "def lstm_objective(trial):\n",
        "    # Hyperparameters to tune\n",
        "    units = trial.suggest_int(\"units\", 64, 512)\n",
        "    dropout = trial.suggest_float(\"dropout\", 0.1, 0.5)\n",
        "    rho = trial.suggest_float(\"rho\", 0.85, 0.99)\n",
        "    epsilon = trial.suggest_loguniform(\"epsilon\", 1e-8, 1e-5)\n",
        "\n",
        "    # Build LSTM model\n",
        "    model = Sequential()\n",
        "    model.add(LSTM(units=units, activation='tanh', return_sequences=True, input_shape=(X_train_lstm.shape[1], X_train_lstm.shape[2])))\n",
        "    model.add(Dropout(dropout))\n",
        "    model.add(LSTM(units=units // 2, activation='tanh'))\n",
        "    model.add(Dense(1))\n",
        "\n",
        "    # Compile with ADADELTA\n",
        "    optimizer = Adadelta(rho=rho, epsilon=epsilon)\n",
        "    model.compile(optimizer=optimizer, loss='mse', metrics=['mae'])\n",
        "\n",
        "    # Train and evaluate\n",
        "    history = model.fit(\n",
        "        X_train_lstm, y_train_lstm,\n",
        "        epochs=25,\n",
        "        batch_size=32,\n",
        "        validation_split=0.2,\n",
        "        verbose=0\n",
        "    )\n",
        "    return history.history['val_mae'][-1]\n",
        "\n",
        "# Run Optuna study for LSTM\n",
        "study_lstm = optuna.create_study(direction='minimize')\n",
        "study_lstm.optimize(lstm_objective, n_trials=50)\n",
        "print(\"Best LSTM Params:\", study_lstm.best_params)\n",
        "\n",
        "# Train final LSTM model with best hyperparameters\n",
        "best_lstm = Sequential([\n",
        "    LSTM(units=study_lstm.best_params['units'], activation='tanh', return_sequences=True, input_shape=(X_train_lstm.shape[1], X_train_lstm.shape[2])),\n",
        "    Dropout(study_lstm.best_params['dropout']),\n",
        "    LSTM(units=study_lstm.best_params['units'] // 2, activation='tanh'),\n",
        "    Dense(1)\n",
        "])\n",
        "best_lstm.compile(optimizer=Adadelta(rho=study_lstm.best_params['rho'], epsilon=study_lstm.best_params['epsilon']), loss='mse', metrics=['mae'])\n",
        "best_lstm.fit(X_train_lstm, y_train_lstm, epochs=50, batch_size=32, validation_split=0.2)"
      ]
    },
    {
      "cell_type": "markdown",
      "id": "2bd4e0c1",
      "metadata": {
        "id": "2bd4e0c1"
      },
      "source": [
        "CNN-LSTM Hybrid Model with Optuna + ADADELTA"
      ]
    },
    {
      "cell_type": "code",
      "execution_count": null,
      "id": "955ea31a",
      "metadata": {
        "id": "955ea31a"
      },
      "outputs": [],
      "source": [
        "# Objective function for Optuna\n",
        "def cnn_lstm_objective(trial):\n",
        "    # Hyperparameters for CNN\n",
        "    cnn_filters = trial.suggest_int(\"cnn_filters\", 32, 128)\n",
        "    cnn_kernel_size = trial.suggest_int(\"cnn_kernel_size\", 2, 5)\n",
        "\n",
        "    # Hyperparameters for LSTM\n",
        "    lstm_units = trial.suggest_int(\"lstm_units\", 64, 256)\n",
        "    dropout = trial.suggest_float(\"dropout\", 0.1, 0.5)\n",
        "\n",
        "    # ADADELTA parameters\n",
        "    rho = trial.suggest_float(\"rho\", 0.85, 0.99)\n",
        "    epsilon = trial.suggest_loguniform(\"epsilon\", 1e-8, 1e-5)\n",
        "\n",
        "    # Build CNN-LSTM model\n",
        "    model = Sequential()\n",
        "    model.add(Conv1D(filters=cnn_filters, kernel_size=cnn_kernel_size, activation='relu', padding='same', input_shape=(X_train_lstm.shape[1], X_train_lstm.shape[2])))\n",
        "    model.add(MaxPooling1D(pool_size=2))\n",
        "    model.add(LSTM(units=lstm_units, activation='tanh'))\n",
        "    model.add(Dropout(dropout))\n",
        "    model.add(Dense(1))\n",
        "\n",
        "    # Compile with ADADELTA\n",
        "    optimizer = Adadelta(rho=rho, epsilon=epsilon)\n",
        "    model.compile(optimizer=optimizer, loss='mse', metrics=['mae'])\n",
        "\n",
        "    # Train and evaluate\n",
        "    history = model.fit(\n",
        "        X_train_lstm, y_train_lstm,\n",
        "        epochs=25,\n",
        "        batch_size=32,\n",
        "        validation_split=0.2,\n",
        "        verbose=0\n",
        "    )\n",
        "    return history.history['val_mae'][-1]\n",
        "\n",
        "# Run Optuna study for CNN-LSTM\n",
        "study_cnn_lstm = optuna.create_study(direction='minimize')\n",
        "study_cnn_lstm.optimize(cnn_lstm_objective, n_trials=50)\n",
        "print(\"Best CNN-LSTM Params:\", study_cnn_lstm.best_params)\n",
        "\n",
        "# Train final CNN-LSTM model with best hyperparameters\n",
        "best_cnn_lstm = Sequential([\n",
        "    Conv1D(filters=study_cnn_lstm.best_params['cnn_filters'], kernel_size=study_cnn_lstm.best_params['cnn_kernel_size'], activation='relu', padding='same', input_shape=(X_train_lstm.shape[1], X_train_lstm.shape[2])),\n",
        "    MaxPooling1D(pool_size=2),\n",
        "    LSTM(units=study_cnn_lstm.best_params['lstm_units'], activation='tanh'),\n",
        "    Dropout(study_cnn_lstm.best_params['dropout']),\n",
        "    Dense(1)\n",
        "])\n",
        "best_cnn_lstm.compile(optimizer=Adadelta(rho=study_cnn_lstm.best_params['rho'], epsilon=study_cnn_lstm.best_params['epsilon']), loss='mse', metrics=['mae'])\n",
        "best_cnn_lstm.fit(X_train_lstm, y_train_lstm, epochs=50, batch_size=32, validation_split=0.2)"
      ]
    },
    {
      "cell_type": "markdown",
      "id": "c3585db5",
      "metadata": {
        "id": "c3585db5"
      },
      "source": []
    }
  ],
  "metadata": {
    "kernelspec": {
      "display_name": "Python 3",
      "name": "python3"
    },
    "language_info": {
      "codemirror_mode": {
        "name": "ipython",
        "version": 3
      },
      "file_extension": ".py",
      "mimetype": "text/x-python",
      "name": "python",
      "nbconvert_exporter": "python",
      "pygments_lexer": "ipython3",
      "version": "3.10.16"
    },
    "colab": {
      "provenance": [],
      "gpuType": "T4"
    },
    "accelerator": "GPU"
  },
  "nbformat": 4,
  "nbformat_minor": 5
}